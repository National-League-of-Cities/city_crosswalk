{
 "cells": [
  {
   "cell_type": "markdown",
   "id": "913c887f",
   "metadata": {},
   "source": [
    "# County to CSA\n",
    "County, Metropolitan Divisions, Core-baed statistical areas, Combined Statistical Areas, County to CSA Crosswalk and County Subdivisions"
   ]
  },
  {
   "cell_type": "code",
   "execution_count": 1,
   "id": "08a88e73",
   "metadata": {},
   "outputs": [],
   "source": [
    "#Import Packages\n",
    "import pandas as pd\n",
    "import os\n",
    "from tqdm import tqdm"
   ]
  },
  {
   "cell_type": "code",
   "execution_count": 2,
   "id": "0d40f493",
   "metadata": {},
   "outputs": [],
   "source": [
    "STATE = pd.read_csv('Tables/states.csv',dtype={'FIPS':'str'})"
   ]
  },
  {
   "cell_type": "code",
   "execution_count": 3,
   "id": "4bd64a43",
   "metadata": {},
   "outputs": [],
   "source": [
    "CSA = pd.read_csv('Tables/csa.csv',\n",
    "                  usecols=['CSAFP','NAME','ALAND','AWATER','INTPTLAT','INTPTLON'],\n",
    "                  dtype={'CSAFP':'str'})\n",
    "CSA.columns = ['FIPS','NAME','ALAND','AWATER','LAT','LON']"
   ]
  },
  {
   "cell_type": "code",
   "execution_count": 4,
   "id": "38f931f4",
   "metadata": {},
   "outputs": [],
   "source": [
    "CBSA = pd.read_csv('Tables/cbsa.csv',\n",
    "                   usecols=['CBSAFP','NAME','LSAD','ALAND','AWATER','INTPTLAT','INTPTLON'],\n",
    "                   dtype={'CBSAFP':'str'})\n",
    "CBSA.columns = ['FIPS','NAME','TYPE','ALAND','AWATER','LAT','LON']\n",
    "CBSA['TYPE'] = CBSA['TYPE'].map({'M1':'Metro Area','M2':'Micro Area'})"
   ]
  },
  {
   "cell_type": "code",
   "execution_count": 5,
   "id": "c0521773",
   "metadata": {},
   "outputs": [],
   "source": [
    "METDIV = pd.read_csv('Tables/metdiv.csv',\n",
    "                   usecols=['METDIVFP','NAME','ALAND','AWATER','INTPTLAT','INTPTLON'],\n",
    "                   dtype={'METDIVFP':'str'})\n",
    "METDIV.columns = ['FIPS','NAME','ALAND','AWATER','LAT','LON']"
   ]
  },
  {
   "cell_type": "code",
   "execution_count": 6,
   "id": "d736655a",
   "metadata": {},
   "outputs": [],
   "source": [
    "COUNTY = pd.read_csv('Tables/counties.csv',\n",
    "                     usecols=['STATEFP','COUNTYFP','GEOID','NAME','LSAD','CSAFP',\n",
    "                              'CBSAFP','METDIVFP','ALAND','AWATER','INTPTLAT','INTPTLON'],\n",
    "                     dtype={'STATEFP':'str','COUNTYFP':'str','GEOID':'str','CSAFP':'str','CBSAFP':'str','METDIVFP':'str'})\n",
    "COUNTY.columns = ['FIPS_state','FIPS','GEOID','NAME','TYPE','FIPS_csa','FIPS_cbsa','FIPS_metdiv',\n",
    "                  'ALAND','AWATER','LAT','LON']\n",
    "Central_Outlying = pd.read_csv('Tables/central_outlying.csv', dtype={'FIPS_state':'str','FIPS':'str'})\n",
    "COUNTY = COUNTY.merge(Central_Outlying, how='left',on=['FIPS_state','FIPS'])\n",
    "COUNTY = COUNTY.iloc[:,[2,5,6,7,3,4,12,8,9,10,11]]\n",
    "CountyCrossWalk = COUNTY.iloc[:,:4]\n",
    "COUNTY = COUNTY.drop(COUNTY.columns[[1,2,3]], axis = 1)\n",
    "COUNTY['TYPE'] = COUNTY['TYPE'].map({0:\"0\",\n",
    "                                     3: \"City and Borough\",\n",
    "                                     4: \"Borough\",\n",
    "                                     5: \"Census Area\",\n",
    "                                     6: \"County\",\n",
    "                                     7: \"District\",\n",
    "                                     10: \"Island\",\n",
    "                                     12: \"Municipality\",\n",
    "                                     13: \"Municipio\",\n",
    "                                     15: \"Parish\",\n",
    "                                     25: \"City\"\n",
    "                                    }\n",
    "                                   )"
   ]
  },
  {
   "cell_type": "code",
   "execution_count": 7,
   "id": "16638169",
   "metadata": {},
   "outputs": [],
   "source": [
    "COUSUB = pd.read_csv('Tables/cousub.csv',\n",
    "                    usecols=['GEOID','NAME','LSAD','ALAND','AWATER','INTPTLAT','INTPTLON'],\n",
    "                    dtype={'GEOID':'str'})\n",
    "COUSUB.columns = ['GEOID','NAME','TYPE','ALAND','AWATER','LAT','LON']\n",
    "COUSUB['TYPE'] = COUSUB['TYPE'].map({0:\"0\",\n",
    "                                     20:\"Barrio\",\n",
    "                                     21:\"Borough\",\n",
    "                                     22:\"CCD\",\n",
    "                                     23:\"Census Subarea\",\n",
    "                                     24:\"Census Subdistrict\",\n",
    "                                     25:\"City\",\n",
    "                                     26:\"County\",\n",
    "                                     27:\"District\",\n",
    "                                     28:\"District\",\n",
    "                                     29:\"Precinct\",\n",
    "                                     30:\"Precinct\",\n",
    "                                     31:\"Gore\",\n",
    "                                     32:\"Grant\",\n",
    "                                     36:\"Location\",\n",
    "                                     37:\"Municipality\",\n",
    "                                     39:\"Plantation\",\n",
    "                                     41:\"Barrio-Pueblo\",\n",
    "                                     42:\"Purchase\",\n",
    "                                     43:\"Town\",\n",
    "                                     44:\"Township\",\n",
    "                                     45:\"Township\",\n",
    "                                     46:\"UT\",\n",
    "                                     47:\"Village\",\n",
    "                                     49:\"Charter Township\",\n",
    "                                     86:\"Reservation\"\n",
    "                                    }\n",
    "                                   )"
   ]
  },
  {
   "cell_type": "markdown",
   "id": "20126b8e",
   "metadata": {},
   "source": [
    "# Block to Tract\n",
    "Block, Blockgroup, Tract and Block Crosswalk"
   ]
  },
  {
   "cell_type": "code",
   "execution_count": 8,
   "id": "2b489289",
   "metadata": {},
   "outputs": [],
   "source": [
    "TRACT = pd.read_csv('Tables/tract.csv',\n",
    "                    usecols=['GEOID','NAMELSAD','ALAND','AWATER','INTPTLAT','INTPTLON'],\n",
    "                    dtype={'GEOID':'str'})\n",
    "TRACT.columns = ['GEOID','NAME','ALAND','AWATER','LAT','LON']"
   ]
  },
  {
   "cell_type": "code",
   "execution_count": 9,
   "id": "1235f875",
   "metadata": {
    "scrolled": true
   },
   "outputs": [],
   "source": [
    "BLOCKGROUP = pd.read_csv('Tables/blockgroup.csv',\n",
    "                         usecols=['GEOID','NAMELSAD','ALAND','AWATER','INTPTLAT','INTPTLON'],\n",
    "                         dtype={'GEOID':'str'})\n",
    "BLOCKGROUP.columns = ['GEOID','NAME','ALAND','AWATER','LAT','LON']"
   ]
  },
  {
   "cell_type": "code",
   "execution_count": 10,
   "id": "865b1b04",
   "metadata": {},
   "outputs": [
    {
     "name": "stderr",
     "output_type": "stream",
     "text": [
      "100%|██████████████████████████████████████████████████████████████████████████████████| 56/56 [00:36<00:00,  1.52it/s]\n"
     ]
    }
   ],
   "source": [
    "blockfiles = os.listdir(os.getcwd()+'\\\\Tables\\\\blocks')\n",
    "BLOCK = []\n",
    "\n",
    "for i in tqdm(blockfiles, total = len(blockfiles)):\n",
    "    block = pd.read_csv('Tables/blocks/'+i,\n",
    "                        usecols=['GEOID20','NAME20','UR20','ALAND20','AWATER20',\n",
    "                                 'INTPTLAT20','INTPTLON20','HOUSING20','POP20'],\n",
    "                        dtype={'GEOID20':'str'})\n",
    "    block.columns = ['GEOID','NAME','URBAN_RURAL','ALAND','AWATER','LAT','LON','HOUSEHOLDS','POPULATION']\n",
    "    block['URBAN_RURAL'] = block['URBAN_RURAL'].map({'U':'Urban','R':'Rural'})\n",
    "    BLOCK.append(block)\n",
    "\n",
    "BLOCK = pd.concat(BLOCK)"
   ]
  },
  {
   "cell_type": "code",
   "execution_count": 11,
   "id": "6aaf20ce",
   "metadata": {},
   "outputs": [],
   "source": [
    "BlockCrossWalk = pd.read_csv('Tables/blocksCrosswalk.csv',\n",
    "                             usecols=['FULLCODE','STATE','COUNTY','TRACT','BLOCK','PLACE','COUSUB'],\n",
    "                             dtype={'FULLCODE':'str','STATE':'str','COUNTY':'str','TRACT':'str',\n",
    "                                    'BLOCK':'str','PLACE':'str','COUSUB':'str'})\n",
    "BlockCrossWalk['GEOID'] = BlockCrossWalk.FULLCODE.str.zfill(15)\n",
    "BlockCrossWalk['GEOID_county'] = BlockCrossWalk['GEOID'].str[:5]\n",
    "BlockCrossWalk['GEOID_tract'] = BlockCrossWalk['GEOID'].str[:11]\n",
    "BlockCrossWalk['GEOID_blockgroup'] = BlockCrossWalk['GEOID'].str[:12]\n",
    "BlockCrossWalk['GEOID_cousub'] = BlockCrossWalk['GEOID_county'] + BlockCrossWalk['COUSUB']\n",
    "BlockCrossWalk['GEOID_place'] = BlockCrossWalk['STATE'] + BlockCrossWalk['PLACE']\n",
    "BlockCrossWalk = BlockCrossWalk.iloc[:,7:]"
   ]
  },
  {
   "cell_type": "markdown",
   "id": "16bbaef2",
   "metadata": {},
   "source": [
    "# Non-hierarchical Geographies\n",
    "Congressional Districts, Places and Census of Governments"
   ]
  },
  {
   "cell_type": "code",
   "execution_count": 12,
   "id": "f20bda41",
   "metadata": {},
   "outputs": [],
   "source": [
    "CD = pd.read_csv('Tables/CD.csv',\n",
    "                usecols=['STATEFP20','GEOID20','CD118FP','NAMELSAD20','ALAND20','AWATER20','INTPTLAT20','INTPTLON20'],\n",
    "                dtype={'STATEFP20':'str','GEOID20':'str','CD118FP':'str'})\n",
    "CD.columns = ['FIPS_state','GEOID','FIPS','NAME','ALAND','AWATER','LAT','LON']\n",
    "CD = CD[CD.FIPS != 'ZZ']\n",
    "CD = CD.merge(STATE.add_suffix('_state'), how = 'left',on = 'FIPS_state')\n",
    "CD['NAME'] = CD['CODE_state'] + '-' + CD['FIPS']\n",
    "CD = CD.iloc[:,[1,3,4,5,6,7]]"
   ]
  },
  {
   "cell_type": "code",
   "execution_count": 13,
   "id": "26599f56",
   "metadata": {},
   "outputs": [],
   "source": [
    "PLACE = pd.read_csv('Tables/place.csv',\n",
    "                    usecols=['GEOID','NAME','LSAD','ALAND','AWATER','INTPTLAT','INTPTLON'],\n",
    "                    dtype={'GEOID':'str'})\n",
    "PLACE.columns = ['GEOID','NAME','TYPE','ALAND','AWATER','LAT','LON']\n",
    "PLACE['TYPE'] = PLACE['TYPE'].map({\"00\":\"00\",\n",
    "                                   \"21\":\"Borough\",\n",
    "                                   \"25\":\"City\",\n",
    "                                   \"35\":\"Metro Township\",\n",
    "                                   \"37\":\"Municipality\",\n",
    "                                   \"43\":\"Town\",\n",
    "                                   \"47\":\"Village\",\n",
    "                                   \"53\":\"City and Borough\",\n",
    "                                   \"55\":\"Comunidad\",\n",
    "                                   \"57\":\"CDP\",\n",
    "                                   \"62\":\"Zona Urbana\",\n",
    "                                   \"CG\":\"Consolidated Government\",\n",
    "                                   \"CN\":\"Corporation\",\n",
    "                                   \"MG\":\"Metropolitan Government\",\n",
    "                                   \"UC\":\"Urban County\",\n",
    "                                   \"UG\":\"Unified Government\"\n",
    "                                  }\n",
    "                                 )"
   ]
  },
  {
   "cell_type": "code",
   "execution_count": 14,
   "id": "52e742ac",
   "metadata": {},
   "outputs": [],
   "source": [
    "#census of Governments\n",
    "COG = pd.read_csv('Tables/CensusofGovernments2.csv',\n",
    "                 usecols=['CENSUS_ID_PID6','UNIT_NAME','UNIT_TYPE','FIPS_STATE','FIPS_COUNTY','FIPS_PLACE','COUNTY_AREA_NAME','IS_ACTIVE'],\n",
    "                 dtype={'CENSUS_ID_PID6':'str','FIPS_STATE':'str','FIPS_COUNTY':'str','FIPS_PLACE':'str','POPULATION':'float'},\n",
    "                 thousands=',')"
   ]
  },
  {
   "cell_type": "code",
   "execution_count": 15,
   "id": "ba575dbc",
   "metadata": {},
   "outputs": [],
   "source": [
    "#Counties: Alaska Boroughs, miami-dade, honolulu, greeley county, los alamos, alleghany, arlington\n",
    "COUNTIES = pd.concat([COG.loc[(COG.FIPS_STATE == '02')&(COG.UNIT_TYPE == '1 - COUNTY')],\n",
    "                      COG.loc[COG.CENSUS_ID_PID6.isin(['164742','183701','170369','136002','176669','207649'])]],\n",
    "                     ignore_index = True)\n",
    "COUNTIES['GEOID'] = COUNTIES['FIPS_STATE']+COUNTIES['FIPS_COUNTY']\n",
    "COUNTIES = COUNTIES.merge(COUNTY, how = 'left',on = 'GEOID')\n",
    "COUNTIES = COUNTIES.iloc[:,[8,3,4,1,2,10,12,13,14,15]]\n",
    "COUNTIES['UNIT_TYPE'] = 'COUNTY'"
   ]
  },
  {
   "cell_type": "code",
   "execution_count": 16,
   "id": "37f5f99e",
   "metadata": {},
   "outputs": [],
   "source": [
    "#townships: New england + Boardman, OH (CT counties are the historicla counties, not the new administrative ones)\n",
    "TOWNSHIPS = pd.concat([COG.loc[(COG.UNIT_TYPE == '3 - TOWNSHIP') & (COG.IS_ACTIVE == 'Y') & COG.FIPS_STATE.isin(['09','23','25','33','44','50'])],\n",
    "                       COG.loc[COG.CENSUS_ID_PID6 == '173040']],\n",
    "                      ignore_index = True)\n",
    "TOWNSHIPS['GEOID'] = TOWNSHIPS['FIPS_STATE']+TOWNSHIPS['FIPS_COUNTY']+TOWNSHIPS['FIPS_PLACE']\n",
    "TOWNSHIPS = TOWNSHIPS.merge(COUSUB, how = 'left',on = 'GEOID')\n",
    "TOWNSHIPS = TOWNSHIPS.iloc[:,[8,3,4,1,2,10,11,12,13,14]]\n",
    "TOWNSHIPS['UNIT_TYPE'] = 'COUSUB'"
   ]
  },
  {
   "cell_type": "code",
   "execution_count": 17,
   "id": "9e6163ce",
   "metadata": {},
   "outputs": [],
   "source": [
    "#All active Municipalities that merge with PLACE table\n",
    "MUNICIPALITIES = pd.concat([COG.loc[(COG.UNIT_TYPE == '2 - MUNICIPAL') & (COG.IS_ACTIVE == 'Y') & ~COG.CENSUS_ID_PID6.isin(['107587','105360','189810'])]],ignore_index=True)\n",
    "MUNICIPALITIES['GEOID'] = MUNICIPALITIES['FIPS_STATE']+MUNICIPALITIES['FIPS_PLACE']\n",
    "MUNICIPALITIES = MUNICIPALITIES.merge(PLACE, how = 'inner', on='GEOID')\n",
    "MUNICIPALITIES = MUNICIPALITIES.iloc[:,[8,3,4,1,2,10,11,12,13,14]]\n",
    "MUNICIPALITIES['UNIT_TYPE'] = 'PLACE'"
   ]
  },
  {
   "cell_type": "code",
   "execution_count": 18,
   "id": "8c447fc3",
   "metadata": {
    "scrolled": true
   },
   "outputs": [
    {
     "name": "stderr",
     "output_type": "stream",
     "text": [
      "C:\\Users\\ahmed\\Anaconda3\\lib\\site-packages\\pandas\\core\\indexing.py:1667: SettingWithCopyWarning: \n",
      "A value is trying to be set on a copy of a slice from a DataFrame.\n",
      "Try using .loc[row_indexer,col_indexer] = value instead\n",
      "\n",
      "See the caveats in the documentation: https://pandas.pydata.org/pandas-docs/stable/user_guide/indexing.html#returning-a-view-versus-a-copy\n",
      "  self.obj[key] = value\n",
      "C:\\Users\\ahmed\\Anaconda3\\lib\\site-packages\\pandas\\core\\indexing.py:1684: SettingWithCopyWarning: \n",
      "A value is trying to be set on a copy of a slice from a DataFrame.\n",
      "Try using .loc[row_indexer,col_indexer] = value instead\n",
      "\n",
      "See the caveats in the documentation: https://pandas.pydata.org/pandas-docs/stable/user_guide/indexing.html#returning-a-view-versus-a-copy\n",
      "  self.obj[key] = infer_fill_value(value)\n",
      "C:\\Users\\ahmed\\Anaconda3\\lib\\site-packages\\pandas\\core\\indexing.py:1817: SettingWithCopyWarning: \n",
      "A value is trying to be set on a copy of a slice from a DataFrame.\n",
      "Try using .loc[row_indexer,col_indexer] = value instead\n",
      "\n",
      "See the caveats in the documentation: https://pandas.pydata.org/pandas-docs/stable/user_guide/indexing.html#returning-a-view-versus-a-copy\n",
      "  self._setitem_single_column(loc, value, pi)\n",
      "C:\\Users\\ahmed\\Anaconda3\\lib\\site-packages\\pandas\\core\\frame.py:5039: SettingWithCopyWarning: \n",
      "A value is trying to be set on a copy of a slice from a DataFrame\n",
      "\n",
      "See the caveats in the documentation: https://pandas.pydata.org/pandas-docs/stable/user_guide/indexing.html#returning-a-view-versus-a-copy\n",
      "  return super().rename(\n"
     ]
    }
   ],
   "source": [
    "#Two CDPs that are members, Matoaka \n",
    "CDPs = PLACE[PLACE.NAME.isin(['Friendship Heights Village','Matoaka'])]\n",
    "CDPs.loc[:,'FIPS_STATE'] = CDPs.loc[:,'GEOID'].str[:2]\n",
    "CDPs.loc[CDPs.GEOID == '2430800','FIPS_COUNTY'] = '031'\n",
    "CDPs.loc[CDPs.GEOID == '5452420','FIPS_COUNTY'] = '055'\n",
    "CDPs.loc[:,'UNIT_TYPE'] = 'PLACE'\n",
    "CDPs.rename(columns={'NAME':'UNIT_NAME'}, inplace=True)\n",
    "MUNICIPALITIES = pd.concat([MUNICIPALITIES,CDPs], ignore_index = True)"
   ]
  },
  {
   "cell_type": "code",
   "execution_count": 19,
   "id": "2dffe94e",
   "metadata": {},
   "outputs": [
    {
     "name": "stderr",
     "output_type": "stream",
     "text": [
      "C:\\Users\\ahmed\\Anaconda3\\lib\\site-packages\\pandas\\core\\frame.py:4906: SettingWithCopyWarning: \n",
      "A value is trying to be set on a copy of a slice from a DataFrame\n",
      "\n",
      "See the caveats in the documentation: https://pandas.pydata.org/pandas-docs/stable/user_guide/indexing.html#returning-a-view-versus-a-copy\n",
      "  return super().drop(\n"
     ]
    }
   ],
   "source": [
    "#Puerto Rico Municipalities\n",
    "PR = COUNTY[COUNTY.TYPE == 'Municipio']\n",
    "PR.drop(columns = 'CENTRAL_OUTLYING', inplace = True)\n",
    "PR.loc[:,'FIPS_STATE'] = PR.loc[:,'GEOID'].str[:2]\n",
    "PR.loc[:,'FIPS_COUNTY'] = PR.loc[:,'GEOID'].str[2:]\n",
    "PR.loc[:,'UNIT_TYPE'] = 'MUNICIPIO'\n",
    "PR.rename(columns={'NAME':'UNIT_NAME'}, inplace=True)"
   ]
  },
  {
   "cell_type": "code",
   "execution_count": 24,
   "id": "91bd8821",
   "metadata": {},
   "outputs": [],
   "source": [
    "#Merge all Unit Types\n",
    "CTV = pd.concat([COUNTIES, TOWNSHIPS, MUNICIPALITIES, PR],ignore_index = True)\n",
    "CTV.columns = ['GEOID','FIPS_state','FIPS_county','FULL_NAME','GEO_UNIT','TYPE','ALAND','AWATER','LAT','LON']\n",
    "CTV = CTV.merge(STATE.add_suffix('_state'),how='left',on='FIPS_state')\n",
    "CTV = CTV.iloc[:,[0,1,2,3,4,5,10,6,7,8,9]]\n",
    "CTV.FIPS_county = CTV.FIPS_state + CTV.FIPS_county"
   ]
  },
  {
   "cell_type": "code",
   "execution_count": 25,
   "id": "f45a4b3a",
   "metadata": {},
   "outputs": [],
   "source": [
    "#Onetime merge with Netforum to adjust City Names, and add unique key, Correct County Fips, 2020 Population, and membership status\n",
    "#Update will happen on Azure Data Factory going forward\n",
    "NF_current = pd.read_csv('netforum_fips.csv',dtype={'org_census_geoid_ext':'str'})\n",
    "CTV = CTV.merge(NF_current, how = 'inner', left_on ='GEOID',right_on ='org_census_geoid_ext')\n",
    "CTV.loc[:,'FULL_NAME'] = CTV.loc[:,'org_name']\n",
    "CTV = CTV.iloc[:,[0,4,3,13,5,6,2,7,8,9,10,15,11,17]]\n",
    "CTV.columns = ['GEOID','GEO_UNIT','FULL_NAME','NAME','TYPE','CODE_state','FIPS_county','ALAND','AWATER','LAT','LON','Population','cst_key','MemberFlag']"
   ]
  },
  {
   "cell_type": "markdown",
   "id": "4666227b",
   "metadata": {},
   "source": [
    "# Crosswalks"
   ]
  },
  {
   "cell_type": "code",
   "execution_count": 72,
   "id": "c3816033",
   "metadata": {},
   "outputs": [],
   "source": [
    "#Cog to CD\n",
    "county2cd = pd.read_csv('Tables/county2cd.csv',\n",
    "                        usecols=['GEOID_CD118_20','GEOID_COUNTY_20','AREALAND_PART','AREAWATER_PART'],\n",
    "                        dtype={'GEOID_CD118_20':'str','GEOID_COUNTY_20':'str'})\n",
    "county2cd['GEOID_COUNTY_20'] = county2cd.GEOID_COUNTY_20.str.zfill(5)\n",
    "county2cd.rename(columns = {'GEOID_CD118_20':'GEOID_cd','GEOID_COUNTY_20':'GEOID_ctv','AREALAND_PART':'ALAND_part','AREAWATER_PART':'AWATER_part'}, inplace = True)\n",
    "\n",
    "cousub2cd = pd.read_csv('Tables/cousub2cd.csv',\n",
    "                        usecols=['GEOID_CD118_20','GEOID_COUSUB_20','AREALAND_PART','AREAWATER_PART'],\n",
    "                        dtype={'GEOID_CD118_20':'str','GEOID_COUSUB_20':'str'})\n",
    "cousub2cd['GEOID_COUSUB_20'] = cousub2cd.GEOID_COUSUB_20.str.zfill(10)\n",
    "cousub2cd.rename(columns = {'GEOID_CD118_20':'GEOID_cd','GEOID_COUSUB_20':'GEOID_ctv','AREALAND_PART':'ALAND_part','AREAWATER_PART':'AWATER_part'}, inplace = True)\n",
    "\n",
    "place2cd = pd.read_csv('Tables/place2cd.csv',\n",
    "                       usecols=['GEOID_CD118_20','GEOID_PLACE_20','AREALAND_PART','AREAWATER_PART'],\n",
    "                       dtype={'GEOID_CD118_20':'str','GEOID_PLACE_20':'str'})\n",
    "place2cd.rename(columns = {'GEOID_CD118_20':'GEOID_cd','GEOID_PLACE_20':'GEOID_ctv','AREALAND_PART':'ALAND_part','AREAWATER_PART':'AWATER_part'}, inplace = True)\n",
    "\n",
    "pr2cd = county2cd.merge(PR, how = 'inner',left_on='GEOID_ctv', right_on = 'GEOID').iloc[:,:4]\n",
    "county2cd = county2cd.merge(COUNTIES, how = 'inner',left_on='GEOID_ctv', right_on = 'GEOID').iloc[:,:4]\n",
    "cousub2cd = cousub2cd.merge(TOWNSHIPS, how = 'inner',left_on='GEOID_ctv', right_on = 'GEOID').iloc[:,:4]\n",
    "place2cd = place2cd.merge(MUNICIPALITIES, how = 'inner',left_on='GEOID_ctv', right_on = 'GEOID').iloc[:,:4]\n",
    "\n",
    "CTV_x_CD = pd.concat([county2cd,cousub2cd,place2cd,pr2cd])"
   ]
  },
  {
   "cell_type": "code",
   "execution_count": 87,
   "id": "c5173a44",
   "metadata": {},
   "outputs": [],
   "source": [
    "#Merge with block crosswalk\n",
    "county_x_block = BlockCrossWalk.merge(COUNTIES, left_on = ['GEOID_county'], right_on = ['GEOID'], how = 'inner', suffixes = ('_block','_ctv')).iloc[:,:8]\n",
    "pr_x_block = BlockCrossWalk.merge(PR, left_on = ['GEOID_county'], right_on = ['GEOID'], how = 'inner', suffixes = ('_block','_ctv')).iloc[:,:8]\n",
    "township_x_block = BlockCrossWalk.merge(TOWNSHIPS, left_on = ['GEOID_cousub'], right_on = ['GEOID'], how = 'inner', suffixes = ('_block','_ctv')).iloc[:,:8]\n",
    "place_x_block = BlockCrossWalk.merge(MUNICIPALITIES, left_on = ['GEOID_place'], right_on = ['GEOID'], how = 'inner', suffixes = ('_block','_ctv')).iloc[:,:8]\n",
    "\n",
    "CTV_x_BLOCK = pd.concat([county_x_block,township_x_block,place_x_block,pr_x_block])\n",
    "CTV_x_BLOCK = CTV_x_BLOCK.iloc[:,[6,1,4,5,2,3,0]]"
   ]
  },
  {
   "cell_type": "code",
   "execution_count": 88,
   "id": "e374037c",
   "metadata": {},
   "outputs": [],
   "source": [
    "#Merge with County Crosswalk\n",
    "CTV_x_COUNTY = CTV_x_BLOCK.iloc[:,:2].drop_duplicates(ignore_index=True).merge(CountyCrossWalk, left_on=['GEOID_county'],right_on=['GEOID'])\n",
    "CTV_x_COUNTY = CTV_x_COUNTY.iloc[:,[0,1,3,4,5]]"
   ]
  },
  {
   "cell_type": "code",
   "execution_count": 91,
   "id": "4e4962be",
   "metadata": {},
   "outputs": [],
   "source": [
    "#Table Export to CSV\n",
    "STATE.to_csv('Output/STATE.csv', index = False)\n",
    "CSA.to_csv('Output/CSA.csv', index = False)\n",
    "CBSA.to_csv('Output/CBSA.csv', index = False)\n",
    "METDIV.to_csv('Output/METDIV.csv', index = False)\n",
    "COUNTY.to_csv('Output/COUNTY.csv', index = False)\n",
    "COUSUB.to_csv('Output/COUSUB.csv', index = False)\n",
    "TRACT.to_csv('Output/TRACT.csv', index = False)\n",
    "BLOCKGROUP.to_csv('Output/BLOCKGROUP.csv', index = False)\n",
    "BLOCK.to_csv('Output/BLOCK.csv', index = False)\n",
    "CD.to_csv('Output/CD.csv', index = False)\n",
    "PLACE.to_csv('Output/PLACE.csv', index = False)\n",
    "\n",
    "CTV.to_csv('Output/CTV.csv', index = False)\n",
    "CTV_x_CD.to_csv('Output/CTV_x_CD.csv', index = False)\n",
    "CTV_x_BLOCK.to_csv('Output/CTV_x_BLOCK.csv', index = False)\n",
    "CTV_x_COUNTY.to_csv('Output/CTV_x_COUNTY.csv', index = False)"
   ]
  }
 ],
 "metadata": {
  "kernelspec": {
   "display_name": "Python 3 (ipykernel)",
   "language": "python",
   "name": "python3"
  },
  "language_info": {
   "codemirror_mode": {
    "name": "ipython",
    "version": 3
   },
   "file_extension": ".py",
   "mimetype": "text/x-python",
   "name": "python",
   "nbconvert_exporter": "python",
   "pygments_lexer": "ipython3",
   "version": "3.9.7"
  }
 },
 "nbformat": 4,
 "nbformat_minor": 5
}
