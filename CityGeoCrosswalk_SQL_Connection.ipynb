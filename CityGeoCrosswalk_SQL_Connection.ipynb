{
 "cells": [
  {
   "cell_type": "code",
   "execution_count": null,
   "id": "b240c82f",
   "metadata": {},
   "outputs": [],
   "source": [
    "import pandas as pd\n",
    "import numpy as np\n",
    "import pyodbc\n",
    "from sqlalchemy import create_engine\n",
    "import sqlalchemy as sql\n",
    "import urllib\n",
    "\n",
    "#Connect to City GeoDB and pull CTV List\n",
    "\n",
    "\n",
    "username = input('Username: ')\n",
    "password = input('Password: ')\n",
    "\n",
    "params = urllib.parse.quote_plus(r'Driver={ODBC Driver 17 for SQL Server};Server=tcp:nlcdbserver1.database.windows.net,1433;Database=CityGeoCrosswalk;Uid='+username+';Pwd='+password+';Encrypt=yes;TrustServerCertificate=no;Connection Timeout=30;')\n",
    "\n",
    "conn_str = 'mssql+pyodbc:///?odbc_connect={}'.format(params)\n",
    "\n",
    "engine_azure = create_engine(conn_str,echo=True)\n",
    "\n",
    "query = '''select * from [CTV]'''\n",
    "\n",
    "CTV = pd.read_sql_query(query,engine_azure)"
   ]
  }
 ],
 "metadata": {
  "kernelspec": {
   "display_name": "Python 3 (ipykernel)",
   "language": "python",
   "name": "python3"
  },
  "language_info": {
   "codemirror_mode": {
    "name": "ipython",
    "version": 3
   },
   "file_extension": ".py",
   "mimetype": "text/x-python",
   "name": "python",
   "nbconvert_exporter": "python",
   "pygments_lexer": "ipython3",
   "version": "3.9.7"
  }
 },
 "nbformat": 4,
 "nbformat_minor": 5
}
