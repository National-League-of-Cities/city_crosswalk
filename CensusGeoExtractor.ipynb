{
 "cells": [
  {
   "cell_type": "code",
   "execution_count": 9,
   "id": "42530c88",
   "metadata": {},
   "outputs": [],
   "source": [
    "import geopandas as gpd\n",
    "from bs4 import BeautifulSoup\n",
    "import pandas as pd\n",
    "import re\n",
    "import requests\n",
    "from requests.packages.urllib3.exceptions import InsecureRequestWarning\n",
    "requests.packages.urllib3.disable_warnings(InsecureRequestWarning)\n",
    "import os\n",
    "from tqdm import tqdm"
   ]
  },
  {
   "cell_type": "code",
   "execution_count": null,
   "id": "ca22066b",
   "metadata": {},
   "outputs": [],
   "source": [
    "#Function to pull shapefile data\n",
    "#Returns list of zip files in main directory\n",
    "\n",
    "def get_zip(url):\n",
    "    front_page = requests.get(url,verify=False)\n",
    "    soup = BeautifulSoup(front_page.content,'html.parser')\n",
    "    zf = soup.find_all(\"a\",href=re.compile(r\"zip\"))\n",
    "    zl = [os.path.join(url,i['href']) for i in zf]\n",
    "    return zl"
   ]
  },
  {
   "cell_type": "code",
   "execution_count": null,
   "id": "4cc48733",
   "metadata": {},
   "outputs": [],
   "source": [
    "#parse through list of zip files and append together (might take too much time)\n",
    "def get_geo_table(geography, url):\n",
    "    files = get_zip(url)\n",
    "    pages = []\n",
    "    for zfile in tqdm(files, desc=f\"{geography}\",total=len(files)):\n",
    "        table = gpd.read_file(zfile).iloc[:,:-1]\n",
    "        pages.append(table)\n",
    "    fulltable = pd.concat(pages)\n",
    "    fulltable.to_csv(f\"{geography}.csv\")"
   ]
  },
  {
   "cell_type": "code",
   "execution_count": null,
   "id": "1965edad",
   "metadata": {
    "scrolled": true
   },
   "outputs": [],
   "source": [
    "#Block shape files\n",
    "get_geo_table(\"block\",r\"https://www2.census.gov/geo/tiger/TIGER_RD18/LAYER/TABBLOCK20/\")\n",
    "\n",
    "#block group shape files\n",
    "get_geo_table(\"blockgroup\",r\"https://www2.census.gov/geo/tiger/TIGER_RD18/LAYER/BG/\")\n",
    "    \n",
    "#tract Shape files\n",
    "get_geo_table(\"tract\",r\"https://www2.census.gov/geo/tiger/TIGER_RD18/LAYER/TRACT/\")\n",
    "\n",
    "#MetDiv shape files\n",
    "get_geo_table(\"metdiv\",r\"https://www2.census.gov/geo/tiger/TIGER2020/METDIV/\")\n",
    "\n",
    "#CBSA shape files\n",
    "get_geo_table(\"cbsa\",r\"https://www2.census.gov/geo/tiger/TIGER2020/CBSA/\")\n",
    "    \n",
    "#CSA Shape files\n",
    "get_geo_table(\"csa\",r\"https://www2.census.gov/geo/tiger/TIGER2020/CSA/\")\n",
    "\n",
    "#CD shape files\n",
    "get_geo_table(\"CD\",r\"https://www2.census.gov/geo/tiger/TIGER2020/CD/CD118/\")\n",
    "\n",
    "#Place Shape Files\n",
    "get_geo_table(\"place\",r\"https://www2.census.gov/geo/tiger/TIGER2020/PLACE/\")"
   ]
  },
  {
   "cell_type": "code",
   "execution_count": null,
   "id": "cd98463e",
   "metadata": {},
   "outputs": [],
   "source": [
    "#County shape files\n",
    "#Has New Connecticut counties https://www2.census.gov/geo/tiger/TIGER_RD18/LAYER/COUNTY/\n",
    "\n",
    "url=r'https://www2.census.gov/geo/tiger/TIGER_RD18/LAYER/COUNTY/tl_rd22_us_county.zip'\n",
    "pages = []\n",
    "table = gpd.read_file(url).iloc[:,:-1]\n",
    "pages.append(table)\n",
    "fulltable = pd.concat(pages)\n",
    "fulltable.to_csv(\"counties.csv\")    "
   ]
  },
  {
   "cell_type": "code",
   "execution_count": 7,
   "id": "24c0a293",
   "metadata": {
    "scrolled": true
   },
   "outputs": [
    {
     "name": "stderr",
     "output_type": "stream",
     "text": [
      "st01_al: 100%|█████████████████████████████████████████████████████████████████████████| 67/67 [00:10<00:00,  6.16it/s]\n",
      "st02_ak: 100%|█████████████████████████████████████████████████████████████████████████| 30/30 [00:03<00:00,  7.85it/s]\n",
      "st04_az: 100%|█████████████████████████████████████████████████████████████████████████| 15/15 [00:07<00:00,  2.08it/s]\n",
      "st05_ar: 100%|█████████████████████████████████████████████████████████████████████████| 75/75 [00:21<00:00,  3.47it/s]\n",
      "st06_ca: 100%|█████████████████████████████████████████████████████████████████████████| 58/58 [00:15<00:00,  3.79it/s]\n",
      "st08_co: 100%|█████████████████████████████████████████████████████████████████████████| 64/64 [00:10<00:00,  6.24it/s]\n",
      "st09_ct: 100%|███████████████████████████████████████████████████████████████████████████| 8/8 [00:01<00:00,  4.17it/s]\n",
      "st10_de: 100%|███████████████████████████████████████████████████████████████████████████| 3/3 [00:00<00:00,  4.80it/s]\n",
      "st11_dc: 100%|███████████████████████████████████████████████████████████████████████████| 1/1 [00:00<00:00,  4.97it/s]\n",
      "st12_fl: 100%|█████████████████████████████████████████████████████████████████████████| 67/67 [00:28<00:00,  2.36it/s]\n",
      "st13_ga: 100%|███████████████████████████████████████████████████████████████████████| 159/159 [00:24<00:00,  6.56it/s]\n",
      "st15_hi: 100%|███████████████████████████████████████████████████████████████████████████| 5/5 [00:01<00:00,  4.97it/s]\n",
      "st16_id: 100%|█████████████████████████████████████████████████████████████████████████| 44/44 [00:07<00:00,  5.78it/s]\n",
      "st17_il: 100%|███████████████████████████████████████████████████████████████████████| 102/102 [00:18<00:00,  5.47it/s]\n",
      "st18_in: 100%|█████████████████████████████████████████████████████████████████████████| 92/92 [00:15<00:00,  5.77it/s]\n",
      "st19_ia: 100%|█████████████████████████████████████████████████████████████████████████| 99/99 [00:18<00:00,  5.38it/s]\n",
      "st20_ks: 100%|███████████████████████████████████████████████████████████████████████| 105/105 [00:17<00:00,  6.05it/s]\n",
      "st21_ky: 100%|███████████████████████████████████████████████████████████████████████| 120/120 [00:17<00:00,  7.04it/s]\n",
      "st22_la: 100%|█████████████████████████████████████████████████████████████████████████| 64/64 [00:10<00:00,  6.13it/s]\n",
      "st23_me: 100%|█████████████████████████████████████████████████████████████████████████| 16/16 [00:02<00:00,  5.69it/s]\n",
      "st24_md: 100%|█████████████████████████████████████████████████████████████████████████| 24/24 [00:04<00:00,  5.29it/s]\n",
      "st25_ma: 100%|█████████████████████████████████████████████████████████████████████████| 14/14 [00:03<00:00,  3.81it/s]\n",
      "st26_mi: 100%|█████████████████████████████████████████████████████████████████████████| 83/83 [00:15<00:00,  5.49it/s]\n",
      "st27_mn: 100%|█████████████████████████████████████████████████████████████████████████| 87/87 [00:14<00:00,  6.02it/s]\n",
      "st28_ms: 100%|█████████████████████████████████████████████████████████████████████████| 82/82 [00:13<00:00,  6.19it/s]\n",
      "st29_mo: 100%|███████████████████████████████████████████████████████████████████████| 115/115 [00:19<00:00,  5.76it/s]\n",
      "st30_mt: 100%|█████████████████████████████████████████████████████████████████████████| 56/56 [00:08<00:00,  6.37it/s]\n",
      "st31_ne: 100%|█████████████████████████████████████████████████████████████████████████| 93/93 [00:15<00:00,  6.17it/s]\n",
      "st32_nv: 100%|█████████████████████████████████████████████████████████████████████████| 17/17 [00:03<00:00,  4.64it/s]\n",
      "st33_nh: 100%|█████████████████████████████████████████████████████████████████████████| 10/10 [00:01<00:00,  5.42it/s]\n",
      "st34_nj: 100%|█████████████████████████████████████████████████████████████████████████| 21/21 [00:05<00:00,  4.16it/s]\n",
      "st35_nm: 100%|█████████████████████████████████████████████████████████████████████████| 33/33 [00:06<00:00,  5.04it/s]\n",
      "st36_ny: 100%|█████████████████████████████████████████████████████████████████████████| 62/62 [00:12<00:00,  4.88it/s]\n",
      "st37_nc: 100%|███████████████████████████████████████████████████████████████████████| 100/100 [00:18<00:00,  5.54it/s]\n",
      "st38_nd: 100%|█████████████████████████████████████████████████████████████████████████| 53/53 [00:08<00:00,  6.22it/s]\n",
      "st39_oh: 100%|█████████████████████████████████████████████████████████████████████████| 88/88 [00:16<00:00,  5.39it/s]\n",
      "st40_ok: 100%|█████████████████████████████████████████████████████████████████████████| 77/77 [00:14<00:00,  5.26it/s]\n",
      "st41_or: 100%|█████████████████████████████████████████████████████████████████████████| 36/36 [00:09<00:00,  3.71it/s]\n",
      "st42_pa: 100%|█████████████████████████████████████████████████████████████████████████| 67/67 [00:19<00:00,  3.48it/s]\n",
      "st44_ri: 100%|███████████████████████████████████████████████████████████████████████████| 5/5 [00:00<00:00,  5.04it/s]\n",
      "st45_sc: 100%|█████████████████████████████████████████████████████████████████████████| 46/46 [00:08<00:00,  5.19it/s]\n",
      "st46_sd: 100%|█████████████████████████████████████████████████████████████████████████| 66/66 [00:25<00:00,  2.63it/s]\n",
      "st47_tn: 100%|█████████████████████████████████████████████████████████████████████████| 95/95 [00:17<00:00,  5.34it/s]\n",
      "st48_tx: 100%|███████████████████████████████████████████████████████████████████████| 254/254 [01:08<00:00,  3.71it/s]\n",
      "st49_ut: 100%|█████████████████████████████████████████████████████████████████████████| 29/29 [00:16<00:00,  1.80it/s]\n",
      "st50_vt: 100%|█████████████████████████████████████████████████████████████████████████| 14/14 [00:05<00:00,  2.47it/s]\n",
      "st51_va: 100%|███████████████████████████████████████████████████████████████████████| 133/133 [00:32<00:00,  4.11it/s]\n",
      "st53_wa: 100%|█████████████████████████████████████████████████████████████████████████| 39/39 [00:22<00:00,  1.71it/s]\n",
      "st54_wv: 100%|█████████████████████████████████████████████████████████████████████████| 55/55 [00:23<00:00,  2.33it/s]\n",
      "st55_wi: 100%|█████████████████████████████████████████████████████████████████████████| 72/72 [00:14<00:00,  5.13it/s]\n",
      "st56_wy: 100%|█████████████████████████████████████████████████████████████████████████| 23/23 [00:09<00:00,  2.51it/s]\n",
      "st60_as: 100%|███████████████████████████████████████████████████████████████████████████| 5/5 [00:01<00:00,  3.07it/s]\n",
      "st66_gu: 100%|███████████████████████████████████████████████████████████████████████████| 1/1 [00:00<00:00,  1.82it/s]\n",
      "st69_mp: 100%|███████████████████████████████████████████████████████████████████████████| 4/4 [00:01<00:00,  2.76it/s]\n",
      "st72_pr/county/Maps_in_: 100%|█████████████████████████████████████████████████████████| 78/78 [00:15<00:00,  5.09it/s]\n",
      "st78_vi: 100%|███████████████████████████████████████████████████████████████████████████| 3/3 [00:00<00:00,  4.65it/s]\n"
     ]
    }
   ],
   "source": [
    "from bs4 import BeautifulSoup\n",
    "import pandas as pd\n",
    "import re\n",
    "import requests\n",
    "from requests.packages.urllib3.exceptions import InsecureRequestWarning\n",
    "requests.packages.urllib3.disable_warnings(InsecureRequestWarning)\n",
    "import os\n",
    "from tqdm import tqdm\n",
    "\n",
    "#Block to place and county\n",
    "url = r\"https://www2.census.gov/geo/maps/DC2020/DC20BLK/\"\n",
    "front_page = requests.get(url,verify=False)\n",
    "soup = BeautifulSoup(front_page.content,'html.parser')\n",
    "states = soup.find_all(\"a\",href=re.compile(r\"st([0-9]{2})_([a-z]{2})\"))[:-1]\n",
    "state_urls = [os.path.join(url,i['href'],\"county/\") for i in states]\n",
    "state_urls[54] = state_urls[54]+'Maps_in_English/'\n",
    "blocks_total = []\n",
    "\n",
    "\n",
    "for state in state_urls:\n",
    "    name = state[48:-8]\n",
    "    block_table_county = []\n",
    "    state_page = requests.get(state,verify=False)\n",
    "    state_soup = BeautifulSoup(state_page.content,'html.parser')\n",
    "    counties = state_soup.find_all(\"a\",href=re.compile(r\"c([0-9]{5})\"))\n",
    "    county_urls = [os.path.join(state,x['href'],\"DC20BLK_\"+x['href'][:6].upper()+\"_BLK2MS.txt\") for x in counties]\n",
    "    for county in tqdm(county_urls, desc=f\"{name}\",total=len(county_urls)):\n",
    "        data = pd.read_table(county, sep =';',header=0, dtype={'STATE':'str','COUNTY':'str','TRACT':'str','BLOCK':'str','PLACE':'str','COUSUB':'str'})\n",
    "        block_table_county.append(data)\n",
    "    blocks_total.append(pd.concat(block_table_county))\n",
    "\n",
    "blocks = pd.concat(blocks_total)\n",
    "blocks.to_csv(\"blocksCrosswalk.csv\")"
   ]
  },
  {
   "cell_type": "code",
   "execution_count": null,
   "id": "8ed7218c",
   "metadata": {},
   "outputs": [],
   "source": []
  },
  {
   "cell_type": "code",
   "execution_count": null,
   "id": "28e02364",
   "metadata": {},
   "outputs": [],
   "source": []
  },
  {
   "cell_type": "code",
   "execution_count": null,
   "id": "719515a2",
   "metadata": {},
   "outputs": [],
   "source": []
  },
  {
   "cell_type": "code",
   "execution_count": 6,
   "id": "c8ac8e9f",
   "metadata": {},
   "outputs": [
    {
     "name": "stderr",
     "output_type": "stream",
     "text": [
      "C:\\Users\\ahmed\\Anaconda3\\lib\\site-packages\\IPython\\core\\interactiveshell.py:3444: DtypeWarning: Columns (1) have mixed types.Specify dtype option on import or set low_memory=False.\n",
      "  exec(code_obj, self.user_global_ns, self.user_ns)\n"
     ]
    }
   ],
   "source": [
    "cd2place = pd.read_table(\"https://www2.census.gov/geo/docs/maps-data/data/rel2020/cd-sld/tab20_cd11820_place20_natl.txt\",\n",
    "                         sep=\"|\",\n",
    "                         header=0,\n",
    "                         dtype={'GEOID_PLACE_20':'str'}\n",
    "                        )"
   ]
  },
  {
   "cell_type": "code",
   "execution_count": 8,
   "id": "c0988ade",
   "metadata": {},
   "outputs": [],
   "source": [
    "cd2place.to_csv(\"place2cd.csv\")"
   ]
  },
  {
   "cell_type": "code",
   "execution_count": 52,
   "id": "ea96b4bc",
   "metadata": {},
   "outputs": [
    {
     "name": "stderr",
     "output_type": "stream",
     "text": [
      "C:\\Users\\ahmed\\Anaconda3\\lib\\site-packages\\IPython\\core\\interactiveshell.py:3444: DtypeWarning: Columns (1) have mixed types.Specify dtype option on import or set low_memory=False.\n",
      "  exec(code_obj, self.user_global_ns, self.user_ns)\n"
     ]
    }
   ],
   "source": [
    "#Cousub to CD\n",
    "cousub2cd = pd.read_table(\"https://www2.census.gov/geo/docs/maps-data/data/rel2020/cd-sld/tab20_cd11820_cousub20_natl.txt\", sep=\"|\",header=0)\n",
    "cousub2cd.to_csv(\"cousub2cd.csv\")\n",
    "\n",
    "#Place to CD\n",
    "cd2place = pd.read_table(\"https://www2.census.gov/geo/docs/maps-data/data/rel2020/cd-sld/tab20_cd11820_place20_natl.txt\", sep=\"|\",header=0)\n",
    "cd2place.to_csv(\"place2cd.csv\")\n",
    "\n",
    "#County to CD\n",
    "cd2county = pd.read_table(\"https://www2.census.gov/geo/docs/maps-data/data/rel2020/cd-sld/tab20_cd11820_county20_natl.txt\", sep=\"|\",header=0)\n",
    "cd2county.to_csv(\"county2cd.csv\")\n",
    "    \n",
    "#place10 to 20 update\n",
    "place102place20 = pd.read_table(\"https://www2.census.gov/geo/docs/maps-data/data/rel2020/place/tab20_place20_place10_natl.txt\", sep=\"|\",header=0)\n",
    "place102place20.to_csv(\"places_relational.csv\")"
   ]
  }
 ],
 "metadata": {
  "kernelspec": {
   "display_name": "Python 3 (ipykernel)",
   "language": "python",
   "name": "python3"
  },
  "language_info": {
   "codemirror_mode": {
    "name": "ipython",
    "version": 3
   },
   "file_extension": ".py",
   "mimetype": "text/x-python",
   "name": "python",
   "nbconvert_exporter": "python",
   "pygments_lexer": "ipython3",
   "version": "3.9.7"
  }
 },
 "nbformat": 4,
 "nbformat_minor": 5
}
