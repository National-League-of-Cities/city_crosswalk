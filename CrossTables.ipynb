{
 "cells": [
  {
   "cell_type": "markdown",
   "id": "985baeb5",
   "metadata": {},
   "source": [
    "### Census Geographies\n",
    "The follow are the base geographical units from census. Each table has a unique ID for joining to the crosswalks\n",
    "\n",
    "|Table Name|Unique ID (length)| Description| Change Date|\n",
    "| :--- | :--- | :--- | ---: |\n",
    "|CSA|FIPS (3)|Combined Statistical Area|2/1/2021|\n",
    "|CBSA|FIPS (5)|Core-Based Statistical Area (Metro/Micro-politan Area)|2/1/2021|\n",
    "|METDIV|FIPS (5)|Metropolitan Division|2/1/2021|\n",
    "|COUNTY|GEOID (5)|Counties|1/6/2023|\n",
    "|COUSUB|GEOID (10)|County Subdivision|2/1/2021|\n",
    "|TRACT|GEOID (11)|Tracts| 1/6/2023|\n",
    "|BLOCKGROUP|GEOID (12)|Block Group| 1/6/2023|\n",
    "|BLOCK|GEOID (15)|Blocks| 1/6/2023|\n",
    "\n",
    "**Non-Hierarchical Geographies**\n",
    "\n",
    "|Table Name|Unique ID (length)| Description|Change Date|\n",
    "| :--- | :--- | :--- | ---: |\n",
    "|CD|GEOID (4)|118th Congressional Districts| 1/10/2023|\n",
    "|PLACE|GEOID (7)| All Places| 2/1/2021|\n",
    "\n",
    "### Census of Local Governments\n",
    "\n",
    "The Census of Governments has 38,767 local governments listed as of 2021. The list was subdivided in to three parts to isolate local governments that fall under the umbrella of NLC and match them to the Census geographies.\n",
    "\n",
    "    1. COUNTIES - includes two city-counties and 3 NLC members that are officially counties\n",
    "    2. MUNICIPALITIES - includes incorporated places\n",
    "    3. TOWNSHIPS - includes county-subdivision geographic units from New England, Pennsylvania and New Jersey\n",
    "    \n",
    "These tables are combined to create the following table which can be merged to the crosswalks and the base geographies.\n",
    "\n",
    "|Table Name|Unique ID (length)| Description|Change Date|\n",
    "| :--- | :--- | :--- | ---: |\n",
    "|CTV|GEOID (5/7/10)|All Cities, Towns and Villages| 2021|\n",
    "\n",
    "Total: 22655 Cities Towns and Villages; 17,054 within Metro or Micro Area;\n",
    "\n",
    "\n",
    "### Crosswalks\n",
    "\n",
    "The following crosswalk tables can be used to join the primary CTV table to related geographies. Joining must be done using the  GEOID column with the corresponding table and primary key\n",
    "\n",
    "|Table Name|Join On| Join Table|\n",
    "| :--- | :--- | :--- |\n",
    "|CTV_x_COUNTY|GEOID_ctv|CTV|\n",
    "||GEOID_county|COUNTY|\n",
    "||GEOID_csa|CSA|\n",
    "||GEOID_cbsa|CBSA|\n",
    "||GEOID_metdiv|METDIV|\n",
    "|CTV_x_BLOCK|GEOID_ctv|CTV|\n",
    "||GEOID_county|COUNTY|\n",
    "||GEOID_cousub|COUSUB|\n",
    "||GEOID_place|PLACE|\n",
    "||GEOID_tract|TRACT|\n",
    "||GEOID_blockgroup|BLOCKGROUP|\n",
    "||GEOID_block|BLOCK|\n",
    "|CTV_x_CD|GEOID_ctv|CTV|\n",
    "||GEOID_cd|CD|"
   ]
  },
  {
   "cell_type": "code",
   "execution_count": 1,
   "id": "08a88e73",
   "metadata": {},
   "outputs": [],
   "source": [
    "#Import Packages\n",
    "import pandas as pd\n",
    "import os\n",
    "from tqdm import tqdm"
   ]
  },
  {
   "cell_type": "markdown",
   "id": "913c887f",
   "metadata": {},
   "source": [
    "# County to CSA\n",
    "County, Metropolitan Divisions, Core-baed statistical areas, Combined Statistical Areas, County to CSA Crosswalk and County Subdivisions"
   ]
  },
  {
   "cell_type": "code",
   "execution_count": 2,
   "id": "0d40f493",
   "metadata": {},
   "outputs": [],
   "source": [
    "STATE = pd.read_csv('Tables/states.csv',dtype={'FIPS':'str'})"
   ]
  },
  {
   "cell_type": "code",
   "execution_count": 3,
   "id": "4bd64a43",
   "metadata": {},
   "outputs": [],
   "source": [
    "CSA = pd.read_csv('Tables/csa.csv',\n",
    "                  usecols=['CSAFP','NAME','ALAND','AWATER','INTPTLAT','INTPTLON'],\n",
    "                  dtype={'CSAFP':'str'})\n",
    "CSA.columns = ['FIPS','NAME','ALAND','AWATER','LAT','LON']"
   ]
  },
  {
   "cell_type": "code",
   "execution_count": 4,
   "id": "38f931f4",
   "metadata": {},
   "outputs": [],
   "source": [
    "CBSA = pd.read_csv('Tables/cbsa.csv',\n",
    "                   usecols=['CBSAFP','NAME','LSAD','ALAND','AWATER','INTPTLAT','INTPTLON'],\n",
    "                   dtype={'CBSAFP':'str'})\n",
    "CBSA.columns = ['FIPS','NAME','TYPE','ALAND','AWATER','LAT','LON']\n",
    "CBSA['TYPE'] = CBSA['TYPE'].map({'M1':'Metro Area','M2':'Micro Area'})"
   ]
  },
  {
   "cell_type": "code",
   "execution_count": 5,
   "id": "c0521773",
   "metadata": {},
   "outputs": [],
   "source": [
    "METDIV = pd.read_csv('Tables/metdiv.csv',\n",
    "                   usecols=['METDIVFP','NAME','ALAND','AWATER','INTPTLAT','INTPTLON'],\n",
    "                   dtype={'METDIVFP':'str'})\n",
    "METDIV.columns = ['FIPS','NAME','ALAND','AWATER','LAT','LON']"
   ]
  },
  {
   "cell_type": "code",
   "execution_count": 6,
   "id": "d736655a",
   "metadata": {},
   "outputs": [],
   "source": [
    "COUNTY = pd.read_csv('Tables/counties.csv',\n",
    "                     usecols=['STATEFP','COUNTYFP','GEOID','NAME','LSAD','CSAFP',\n",
    "                              'CBSAFP','METDIVFP','ALAND','AWATER','INTPTLAT','INTPTLON'],\n",
    "                     dtype={'STATEFP':'str','COUNTYFP':'str','GEOID':'str','CSAFP':'str','CBSAFP':'str','METDIVFP':'str'})\n",
    "COUNTY.columns = ['FIPS_state','FIPS','GEOID','NAME','TYPE','FIPS_csa','FIPS_cbsa','FIPS_metdiv',\n",
    "                  'ALAND','AWATER','LAT','LON']\n",
    "Central_Outlying = pd.read_csv('Tables/central_outlying.csv', dtype={'FIPS_state':'str','FIPS':'str'})\n",
    "COUNTY = COUNTY.merge(Central_Outlying, how='left',on=['FIPS_state','FIPS'])\n",
    "COUNTY = COUNTY.iloc[:,[2,5,6,7,3,4,12,8,9,10,11]]\n",
    "CountyCrossWalk = COUNTY.iloc[:,:4]\n",
    "COUNTY = COUNTY.drop(COUNTY.columns[[1,2,3]], axis = 1)\n",
    "COUNTY['TYPE'] = COUNTY['TYPE'].map({0:\"0\",\n",
    "                                     3: \"City and Borough\",\n",
    "                                     4: \"Borough\",\n",
    "                                     5: \"Census Area\",\n",
    "                                     6: \"County\",\n",
    "                                     7: \"District\",\n",
    "                                     10: \"Island\",\n",
    "                                     12: \"Municipality\",\n",
    "                                     13: \"Municipio\",\n",
    "                                     15: \"Parish\",\n",
    "                                     25: \"City\"\n",
    "                                    }\n",
    "                                   )"
   ]
  },
  {
   "cell_type": "code",
   "execution_count": 7,
   "id": "16638169",
   "metadata": {},
   "outputs": [],
   "source": [
    "COUSUB = pd.read_csv('Tables/cousub.csv',\n",
    "                    usecols=['GEOID','NAME','LSAD','ALAND','AWATER','INTPTLAT','INTPTLON'],\n",
    "                    dtype={'GEOID':'str'})\n",
    "COUSUB.columns = ['GEOID','NAME','TYPE','ALAND','AWATER','LAT','LON']\n",
    "COUSUB['TYPE'] = COUSUB['TYPE'].map({0:\"0\",\n",
    "                                     20:\"Barrio\",\n",
    "                                     21:\"Borough\",\n",
    "                                     22:\"CCD\",\n",
    "                                     23:\"Census Subarea\",\n",
    "                                     24:\"Census Subdistrict\",\n",
    "                                     25:\"City\",\n",
    "                                     26:\"County\",\n",
    "                                     27:\"District\",\n",
    "                                     28:\"District\",\n",
    "                                     29:\"Precinct\",\n",
    "                                     30:\"Precinct\",\n",
    "                                     31:\"Gore\",\n",
    "                                     32:\"Grant\",\n",
    "                                     36:\"Location\",\n",
    "                                     37:\"Municipality\",\n",
    "                                     39:\"Plantation\",\n",
    "                                     41:\"Barrio-Pueblo\",\n",
    "                                     42:\"Purchase\",\n",
    "                                     43:\"Town\",\n",
    "                                     44:\"Township\",\n",
    "                                     45:\"Township\",\n",
    "                                     46:\"UT\",\n",
    "                                     47:\"Village\",\n",
    "                                     49:\"Charter Township\",\n",
    "                                     86:\"Reservation\"\n",
    "                                    }\n",
    "                                   )"
   ]
  },
  {
   "cell_type": "markdown",
   "id": "20126b8e",
   "metadata": {},
   "source": [
    "# Block to Tract\n",
    "Block, Blockgroup, Tract and Block Crosswalk"
   ]
  },
  {
   "cell_type": "code",
   "execution_count": 8,
   "id": "2b489289",
   "metadata": {},
   "outputs": [],
   "source": [
    "TRACT = pd.read_csv('Tables/tract.csv',\n",
    "                    usecols=['GEOID','NAMELSAD','ALAND','AWATER','INTPTLAT','INTPTLON'],\n",
    "                    dtype={'GEOID':'str'})\n",
    "TRACT.columns = ['GEOID','NAME','ALAND','AWATER','LAT','LON']"
   ]
  },
  {
   "cell_type": "code",
   "execution_count": 9,
   "id": "1235f875",
   "metadata": {
    "scrolled": true
   },
   "outputs": [],
   "source": [
    "BLOCKGROUP = pd.read_csv('Tables/blockgroup.csv',\n",
    "                         usecols=['GEOID','NAMELSAD','ALAND','AWATER','INTPTLAT','INTPTLON'],\n",
    "                         dtype={'GEOID':'str'})\n",
    "BLOCKGROUP.columns = ['GEOID','NAME','ALAND','AWATER','LAT','LON']"
   ]
  },
  {
   "cell_type": "code",
   "execution_count": 10,
   "id": "865b1b04",
   "metadata": {},
   "outputs": [
    {
     "name": "stderr",
     "output_type": "stream",
     "text": [
      "100%|██████████████████████████████████████████████████████████████████████████████████████| 56/56 [00:09<00:00,  5.84it/s]\n"
     ]
    }
   ],
   "source": [
    "blockfiles = os.listdir(os.getcwd()+'\\\\Tables\\\\blocks')\n",
    "BLOCK = []\n",
    "\n",
    "for i in tqdm(blockfiles, total = len(blockfiles)):\n",
    "    block = pd.read_csv('Tables/blocks/'+i,\n",
    "                        usecols=['GEOID20','NAME20','UR20','ALAND20','AWATER20',\n",
    "                                 'INTPTLAT20','INTPTLON20','HOUSING20','POP20'],\n",
    "                        dtype={'GEOID20':'str'})\n",
    "    block.columns = ['GEOID','NAME','URBAN_RURAL','ALAND','AWATER','LAT','LON','HOUSEHOLDS','POPULATION']\n",
    "    block['URBAN_RURAL'] = block['URBAN_RURAL'].map({'U':'Urban','R':'Rural'})\n",
    "    BLOCK.append(block)\n",
    "\n",
    "BLOCK = pd.concat(BLOCK)"
   ]
  },
  {
   "cell_type": "code",
   "execution_count": 11,
   "id": "6aaf20ce",
   "metadata": {},
   "outputs": [],
   "source": [
    "BlockCrossWalk = pd.read_csv('Tables/blocksCrosswalk.csv',\n",
    "                             usecols=['FULLCODE','STATE','COUNTY','TRACT','BLOCK','PLACE','COUSUB'],\n",
    "                             dtype={'FULLCODE':'str','STATE':'str','COUNTY':'str','TRACT':'str',\n",
    "                                    'BLOCK':'str','PLACE':'str','COUSUB':'str'})\n",
    "BlockCrossWalk['GEOID'] = BlockCrossWalk.FULLCODE.str.zfill(15)\n",
    "BlockCrossWalk['GEOID_county'] = BlockCrossWalk['GEOID'].str[:5]\n",
    "BlockCrossWalk['GEOID_tract'] = BlockCrossWalk['GEOID'].str[:11]\n",
    "BlockCrossWalk['GEOID_blockgroup'] = BlockCrossWalk['GEOID'].str[:12]\n",
    "BlockCrossWalk['GEOID_cousub'] = BlockCrossWalk['GEOID_county'] + BlockCrossWalk['COUSUB']\n",
    "BlockCrossWalk['GEOID_place'] = BlockCrossWalk['STATE'] + BlockCrossWalk['PLACE']\n",
    "BlockCrossWalk = BlockCrossWalk.iloc[:,7:]"
   ]
  },
  {
   "cell_type": "markdown",
   "id": "16bbaef2",
   "metadata": {},
   "source": [
    "# Non-hierarchical Geographies\n",
    "Congressional Districts, Places and Census of Governments"
   ]
  },
  {
   "cell_type": "code",
   "execution_count": 12,
   "id": "f20bda41",
   "metadata": {},
   "outputs": [],
   "source": [
    "CD = pd.read_csv('Tables/CD.csv',\n",
    "                usecols=['STATEFP20','GEOID20','CD118FP','NAMELSAD20','ALAND20','AWATER20','INTPTLAT20','INTPTLON20'],\n",
    "                dtype={'STATEFP20':'str','GEOID20':'str','CD118FP':'str'})\n",
    "CD.columns = ['FIPS_state','GEOID','FIPS','NAME','ALAND','AWATER','LAT','LON']\n",
    "CD = CD[CD.FIPS != 'ZZ']\n",
    "CD = CD.merge(STATE.add_suffix('_state'), how = 'left',on = 'FIPS_state')\n",
    "CD['NAME'] = CD['CODE_state'] + '-' + CD['FIPS']\n",
    "CD = CD.iloc[:,[1,3,4,5,6,7]]"
   ]
  },
  {
   "cell_type": "code",
   "execution_count": 13,
   "id": "26599f56",
   "metadata": {},
   "outputs": [],
   "source": [
    "PLACE = pd.read_csv('Tables/place.csv',\n",
    "                    usecols=['GEOID','NAME','LSAD','ALAND','AWATER','INTPTLAT','INTPTLON'],\n",
    "                    dtype={'GEOID':'str'})\n",
    "PLACE.columns = ['GEOID','NAME','TYPE','ALAND','AWATER','LAT','LON']\n",
    "PLACE['TYPE'] = PLACE['TYPE'].map({\"00\":\"00\",\n",
    "                                   \"21\":\"Borough\",\n",
    "                                   \"25\":\"City\",\n",
    "                                   \"35\":\"Metro Township\",\n",
    "                                   \"37\":\"Municipality\",\n",
    "                                   \"43\":\"Town\",\n",
    "                                   \"47\":\"Village\",\n",
    "                                   \"53\":\"City and Borough\",\n",
    "                                   \"55\":\"Comunidad\",\n",
    "                                   \"57\":\"CDP\",\n",
    "                                   \"62\":\"Zona Urbana\",\n",
    "                                   \"CG\":\"Consolidated Government\",\n",
    "                                   \"CN\":\"Corporation\",\n",
    "                                   \"MG\":\"Metropolitan Government\",\n",
    "                                   \"UC\":\"Urban County\",\n",
    "                                   \"UG\":\"Unified Government\"\n",
    "                                  }\n",
    "                                 )"
   ]
  },
  {
   "cell_type": "code",
   "execution_count": 14,
   "id": "91bd8821",
   "metadata": {},
   "outputs": [
    {
     "name": "stderr",
     "output_type": "stream",
     "text": [
      "C:\\Users\\ahmed\\AppData\\Local\\Temp/ipykernel_16728/2580247805.py:8: SettingWithCopyWarning: \n",
      "A value is trying to be set on a copy of a slice from a DataFrame.\n",
      "Try using .loc[row_indexer,col_indexer] = value instead\n",
      "\n",
      "See the caveats in the documentation: https://pandas.pydata.org/pandas-docs/stable/user_guide/indexing.html#returning-a-view-versus-a-copy\n",
      "  COUNTIES['GEOID'] = COUNTIES['FIPS_STATE']+COUNTIES['FIPS_COUNTY']\n",
      "C:\\Users\\ahmed\\AppData\\Local\\Temp/ipykernel_16728/2580247805.py:14: SettingWithCopyWarning: \n",
      "A value is trying to be set on a copy of a slice from a DataFrame.\n",
      "Try using .loc[row_indexer,col_indexer] = value instead\n",
      "\n",
      "See the caveats in the documentation: https://pandas.pydata.org/pandas-docs/stable/user_guide/indexing.html#returning-a-view-versus-a-copy\n",
      "  TOWNSHIPS['GEOID'] = TOWNSHIPS['FIPS_STATE']+TOWNSHIPS['FIPS_COUNTY']+TOWNSHIPS['FIPS_PLACE']\n",
      "C:\\Users\\ahmed\\AppData\\Local\\Temp/ipykernel_16728/2580247805.py:20: SettingWithCopyWarning: \n",
      "A value is trying to be set on a copy of a slice from a DataFrame.\n",
      "Try using .loc[row_indexer,col_indexer] = value instead\n",
      "\n",
      "See the caveats in the documentation: https://pandas.pydata.org/pandas-docs/stable/user_guide/indexing.html#returning-a-view-versus-a-copy\n",
      "  MUNICIPALITIES['GEOID'] = MUNICIPALITIES['FIPS_STATE']+MUNICIPALITIES['FIPS_PLACE']\n"
     ]
    }
   ],
   "source": [
    "#census of Governments\n",
    "COG = pd.read_csv('Tables/CensusofGovernments.csv',\n",
    "                 usecols=['CENSUS_ID_PID6','UNIT_NAME','UNIT_TYPE','POPULATION','POPULATION_YEAR','FIPS_STATE','FIPS_COUNTY','FIPS_PLACE','COUNTY_AREA_NAME','IS_ACTIVE'],\n",
    "                 dtype={'CENSUS_ID_PID6':'str','FIPS_STATE':'str','FIPS_COUNTY':'str','FIPS_PLACE':'str','POPULATION':'float'},\n",
    "                 thousands=',')\n",
    "\n",
    "COUNTIES = COG[COG.CENSUS_ID_PID6.isin(['164742','183701','170369','136002','176669'])]\n",
    "COUNTIES['GEOID'] = COUNTIES['FIPS_STATE']+COUNTIES['FIPS_COUNTY']\n",
    "COUNTIES = COUNTIES.merge(COUNTY, how = 'left',on = 'GEOID')\n",
    "COUNTIES = COUNTIES.iloc[:,[10,5,6,1,2,12,3,4,14,15,16,17]]\n",
    "COUNTIES['UNIT_TYPE'] = 'COUNTY'\n",
    "\n",
    "TOWNSHIPS = COG[(COG.UNIT_TYPE == '3 - TOWNSHIP') & (COG.IS_ACTIVE == 'Y') & ~COG.FIPS_STATE.isin(['17','18','20','26','27','29','31','36','38','39','46','55'])]\n",
    "TOWNSHIPS['GEOID'] = TOWNSHIPS['FIPS_STATE']+TOWNSHIPS['FIPS_COUNTY']+TOWNSHIPS['FIPS_PLACE']\n",
    "TOWNSHIPS = TOWNSHIPS.merge(COUSUB, how = 'left',on = 'GEOID')\n",
    "TOWNSHIPS = TOWNSHIPS.iloc[:,[10,5,6,1,2,12,3,4,13,14,15,16]]\n",
    "TOWNSHIPS['UNIT_TYPE'] = 'COUSUB'\n",
    "\n",
    "MUNICIPALITIES = COG[(COG.UNIT_TYPE == '2 - MUNICIPAL') & (COG.IS_ACTIVE == 'Y')]\n",
    "MUNICIPALITIES['GEOID'] = MUNICIPALITIES['FIPS_STATE']+MUNICIPALITIES['FIPS_PLACE']\n",
    "MUNICIPALITIES = MUNICIPALITIES.merge(PLACE, how = 'inner', on='GEOID')\n",
    "MUNICIPALITIES = MUNICIPALITIES.iloc[:,[10,5,6,1,2,12,3,4,13,14,15,16]]\n",
    "MUNICIPALITIES['UNIT_TYPE'] = 'PLACE'\n",
    "\n",
    "CTV = pd.concat([COUNTIES, TOWNSHIPS, MUNICIPALITIES])\n",
    "CTV.columns = ['GEOID','FIPS_state','FIPS_county','FULL_NAME','GEO_UNIT','TYPE','POPULATION','POP_YEAR','ALAND','AWATER','LAT','LON']\n",
    "CTV = CTV.merge(STATE.add_suffix('_state'),how='left',on='FIPS_state')\n",
    "CTV = CTV.iloc[:,[0,1,2,3,4,5,12,6,7,8,9,10,11]]"
   ]
  },
  {
   "cell_type": "markdown",
   "id": "4666227b",
   "metadata": {},
   "source": [
    "# Crosswalks"
   ]
  },
  {
   "cell_type": "code",
   "execution_count": 15,
   "id": "b3d0ecb4",
   "metadata": {},
   "outputs": [],
   "source": [
    "#Cog to CD\n",
    "county2cd = pd.read_csv('Tables/county2cd.csv',\n",
    "                        usecols=['GEOID_CD118_20','GEOID_COUNTY_20','AREALAND_PART','AREAWATER_PART'],\n",
    "                        dtype={'GEOID_CD118_20':'str','GEOID_COUNTY_20':'str'})\n",
    "county2cd['GEOID_COUNTY_20'] = county2cd.GEOID_COUNTY_20.str.zfill(5)\n",
    "county2cd.rename(columns = {'GEOID_CD118_20':'GEOID_cd','GEOID_COUNTY_20':'GEOID_ctv','AREALAND_PART':'ALAND_part','AREAWATER_PART':'AWATER_part'}, inplace = True)\n",
    "\n",
    "cousub2cd = pd.read_csv('Tables/cousub2cd.csv',\n",
    "                        usecols=['GEOID_CD118_20','GEOID_COUSUB_20','AREALAND_PART','AREAWATER_PART'],\n",
    "                        dtype={'GEOID_CD118_20':'str','GEOID_COUSUB_20':'str'})\n",
    "cousub2cd['GEOID_COUSUB_20'] = cousub2cd.GEOID_COUSUB_20.str.zfill(10)\n",
    "cousub2cd.rename(columns = {'GEOID_CD118_20':'GEOID_cd','GEOID_COUSUB_20':'GEOID_ctv','AREALAND_PART':'ALAND_part','AREAWATER_PART':'AWATER_part'}, inplace = True)\n",
    "\n",
    "place2cd = pd.read_csv('Tables/place2cd.csv',\n",
    "                       usecols=['GEOID_CD118_20','GEOID_PLACE_20','AREALAND_PART','AREAWATER_PART'],\n",
    "                       dtype={'GEOID_CD118_20':'str','GEOID_PLACE_20':'str'})\n",
    "place2cd.rename(columns = {'GEOID_CD118_20':'GEOID_cd','GEOID_PLACE_20':'GEOID_ctv','AREALAND_PART':'ALAND_part','AREAWATER_PART':'AWATER_part'}, inplace = True)\n",
    "\n",
    "county2cd = county2cd.merge(COUNTIES, how = 'inner',left_on='GEOID_ctv', right_on = 'GEOID').iloc[:,:4]\n",
    "cousub2cd = cousub2cd.merge(TOWNSHIPS, how = 'inner',left_on='GEOID_ctv', right_on = 'GEOID').iloc[:,:4]\n",
    "place2cd = place2cd.merge(MUNICIPALITIES, how = 'inner',left_on='GEOID_ctv', right_on = 'GEOID').iloc[:,:4]\n",
    "\n",
    "CTV_x_CD = pd.concat([county2cd,cousub2cd,place2cd])\n",
    "CTV_x_CD = CTV_x_CD.iloc[:,[1,0,2,3]]"
   ]
  },
  {
   "cell_type": "code",
   "execution_count": 16,
   "id": "8846a66a",
   "metadata": {},
   "outputs": [],
   "source": [
    "#Merge with block crosswalk\n",
    "county_x_block = BlockCrossWalk.merge(COUNTIES, left_on = ['GEOID_county'], right_on = ['GEOID'], how = 'inner', suffixes = ('_block','_ctv')).iloc[:,:8]\n",
    "township_x_block = BlockCrossWalk.merge(TOWNSHIPS, left_on = ['GEOID_cousub'], right_on = ['GEOID'], how = 'inner', suffixes = ('_block','_ctv')).iloc[:,:8]\n",
    "place_x_block = BlockCrossWalk.merge(MUNICIPALITIES, left_on = ['GEOID_place'], right_on = ['GEOID'], how = 'inner', suffixes = ('_block','_ctv')).iloc[:,:8]\n",
    "\n",
    "CTV_x_BLOCK = pd.concat([county_x_block,township_x_block,place_x_block])\n",
    "CTV_x_BLOCK = CTV_x_BLOCK.iloc[:,[7,1,4,5,2,3,0]]"
   ]
  },
  {
   "cell_type": "code",
   "execution_count": 17,
   "id": "e374037c",
   "metadata": {},
   "outputs": [],
   "source": [
    "#Merge with County Crosswalk\n",
    "CTV_x_COUNTY = CTV_x_BLOCK.iloc[:,:2].drop_duplicates(ignore_index=True).merge(CountyCrossWalk, left_on=['GEOID_county'],right_on=['GEOID'])\n",
    "CTV_x_COUNTY = CTV_x_COUNTY.iloc[:,[0,1,3,4,5]]"
   ]
  },
  {
   "cell_type": "code",
   "execution_count": 18,
   "id": "4e4962be",
   "metadata": {},
   "outputs": [],
   "source": [
    "#Table Export to CSV\n",
    "STATE.to_csv('Output/STATE.csv', index = False)\n",
    "CSA.to_csv('Output/CSA.csv', index = False)\n",
    "CBSA.to_csv('Output/CBSA.csv', index = False)\n",
    "METDIV.to_csv('Output/METDIV.csv', index = False)\n",
    "COUNTY.to_csv('Output/COUNTY.csv', index = False)\n",
    "COUSUB.to_csv('Output/COUSUB.csv', index = False)\n",
    "TRACT.to_csv('Output/TRACT.csv', index = False)\n",
    "BLOCKGROUP.to_csv('Output/BLOCKGROUP.csv', index = False)\n",
    "BLOCK.to_csv('Output/BLOCK.csv', index = False)\n",
    "CD.to_csv('Output/CD.csv', index = False)\n",
    "PLACE.to_csv('Output/PLACE.csv', index = False)\n",
    "\n",
    "CTV.to_csv('Output/CTV.csv', index = False)\n",
    "CTV_x_CD.to_csv('Output/CTV_x_CD.csv', index = False)\n",
    "CTV_x_BLOCK.to_csv('Output/CTV_x_BLOCK.csv', index = False)\n",
    "CTV_x_COUNTY.to_csv('Output/CTV_x_COUNTY.csv', index = False)"
   ]
  },
  {
   "cell_type": "markdown",
   "id": "075f2332",
   "metadata": {},
   "source": [
    "# Next Steps\n",
    "\n",
    "* Compare to Netforum and Upload new attributes\n",
    "* Custom Shapefile\n",
    "\n",
    "* Stack mysidewalk data by geographies and merge on GEOIDs\n",
    "* Identify data gaps by geography\n",
    "* Weighting of geographies and crosswalks based on size and population\n",
    "    - Primary county vs multiple counties and weighting (by population and area)\n",
    "    - Filtering out 0 pop blocks (weighitng by population and area)\n",
    "* Network diagram with principal cities/ central/outlying counties and distance calculations\n",
    "* CTV to PUMAS\n",
    "* CTV to Zip codes"
   ]
  },
  {
   "cell_type": "code",
   "execution_count": 19,
   "id": "ac1941c2",
   "metadata": {},
   "outputs": [],
   "source": [
    "#Principal_Cities = pd.read_csv('Tables/principal_cities.csv',usecols=['FIPS_cbsa','NAME_city','FIPS_state','FIPS_place'], dtype={'FIPS_cbsa':'str','FIPS_state':'str','FIPS_place':'str'})"
   ]
  }
 ],
 "metadata": {
  "kernelspec": {
   "display_name": "Python 3 (ipykernel)",
   "language": "python",
   "name": "python3"
  },
  "language_info": {
   "codemirror_mode": {
    "name": "ipython",
    "version": 3
   },
   "file_extension": ".py",
   "mimetype": "text/x-python",
   "name": "python",
   "nbconvert_exporter": "python",
   "pygments_lexer": "ipython3",
   "version": "3.9.7"
  }
 },
 "nbformat": 4,
 "nbformat_minor": 5
}
