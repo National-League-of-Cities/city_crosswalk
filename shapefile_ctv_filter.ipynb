{
 "cells": [
  {
   "cell_type": "code",
   "execution_count": null,
   "id": "bfddcaea",
   "metadata": {},
   "outputs": [],
   "source": [
    "import geopandas as gpd\n",
    "import pandas as pd\n",
    "\n",
    "#Read Shapefile\n",
    "zipcode_shapefile = gpd.read_file(#file path of shapefile)\n",
    "\n",
    "#Read data file\n",
    "zipcode_data = pd.read_csv(#Filepath of zipcode data, dtype = {'zipcode':'str'})\n",
    "\n",
    "#FIlter the zipcode data file down to one year or loop through the years one by one to generate a different shapefile for each year    \n",
    "\n",
    "zipcode_shapefile = zipcode_shapefile.merge(zipcode_data, how = 'left', on=#Unique identifier)\n",
    "\n",
    "#Write new shapefile                                 \n",
    "zipcode_shapfile.to_file('folder/EITC_year.shp')\n",
    "                                            \n",
    "#zipfile the folder that the outputs are saved to and then upload to ArcGIS Online\n"
   ]
  },
  {
   "cell_type": "code",
   "execution_count": 1,
   "id": "42530c88",
   "metadata": {},
   "outputs": [],
   "source": [
    "import geopandas as gpd\n",
    "from bs4 import BeautifulSoup\n",
    "import pandas as pd\n",
    "import re\n",
    "import requests\n",
    "from requests.packages.urllib3.exceptions import InsecureRequestWarning\n",
    "requests.packages.urllib3.disable_warnings(InsecureRequestWarning)\n",
    "import os\n",
    "from tqdm import tqdm"
   ]
  },
  {
   "cell_type": "code",
   "execution_count": 2,
   "id": "ca22066b",
   "metadata": {},
   "outputs": [],
   "source": [
    "#Function to pull shapefile data\n",
    "\n",
    "#Returns list of zip files in main directory\n",
    "def get_zip(url):\n",
    "    front_page = requests.get(url,verify=False)\n",
    "    soup = BeautifulSoup(front_page.content,'html.parser')\n",
    "    zf = soup.find_all(\"a\",href=re.compile(r\"zip\"))\n",
    "    zl = [os.path.join(url,i['href']) for i in zf]\n",
    "    return zl\n",
    "\n",
    "#parse through list of zip files and append together (might take too much time)\n",
    "def get_geo_table(geography, url):\n",
    "    files = get_zip(url)\n",
    "    pages = []\n",
    "    for zfile in tqdm(files, desc=f\"{geography}\",total=len(files)):\n",
    "        table = gpd.read_file(zfile)\n",
    "        pages.append(table)\n",
    "    fulltable =  gpd.GeoDataFrame(pd.concat(pages, ignore_index=True))\n",
    "    return fulltable"
   ]
  },
  {
   "cell_type": "code",
   "execution_count": 3,
   "id": "1bc14ef1",
   "metadata": {},
   "outputs": [
    {
     "name": "stderr",
     "output_type": "stream",
     "text": [
      "COUNTY: 100%|████████████████████████████████████████████████████████████████████████████| 1/1 [00:48<00:00, 48.46s/it]\n",
      "COUSUB: 100%|██████████████████████████████████████████████████████████████████████████| 56/56 [07:36<00:00,  8.16s/it]\n",
      "PLACE: 100%|███████████████████████████████████████████████████████████████████████████| 56/56 [03:20<00:00,  3.59s/it]\n"
     ]
    }
   ],
   "source": [
    "county = get_geo_table('COUNTY','https://www2.census.gov/geo/tiger/TIGER2022/COUNTY/')\n",
    "cousub = get_geo_table('COUSUB','https://www2.census.gov/geo/tiger/TIGER2020/COUSUB/')\n",
    "place = get_geo_table('PLACE','https://www2.census.gov/geo/tiger/TIGER2022/PLACE/')"
   ]
  },
  {
   "cell_type": "code",
   "execution_count": 5,
   "id": "36b84699",
   "metadata": {},
   "outputs": [],
   "source": [
    "county = county.iloc[:,[3,-3,-2,-1]]\n",
    "cousub = cousub.iloc[:,[4,-3,-2,-1]]\n",
    "place = place.iloc[:,[3,-3,-2,-1]]"
   ]
  },
  {
   "cell_type": "code",
   "execution_count": 24,
   "id": "1121139f",
   "metadata": {},
   "outputs": [],
   "source": [
    "#Update Gulport,IL, Cahokia Heights,IL, and Pecos,Tx to match to CTV geoids.\n",
    "place = place.replace({'1731991':'1731992','1710373':'1710370','4873493':'4856516'})"
   ]
  },
  {
   "cell_type": "code",
   "execution_count": 8,
   "id": "760dfc38",
   "metadata": {},
   "outputs": [],
   "source": [
    "ctv = pd.read_csv('Output/CTV.csv', dtype = {'GEOID':'string'})"
   ]
  },
  {
   "cell_type": "code",
   "execution_count": 81,
   "id": "86e9a37b",
   "metadata": {},
   "outputs": [],
   "source": [
    "ctv_map = pd.concat([place,county,cousub], ignore_index = True).merge(ctv , on = 'GEOID')\n",
    "ctv_map = ctv_map.iloc[:,[0,1,2,3]]"
   ]
  },
  {
   "cell_type": "code",
   "execution_count": 33,
   "id": "d4bf1a33",
   "metadata": {},
   "outputs": [],
   "source": [
    "ctv_map.to_file('ShapeFiles/CTV/ctv.shp')\n",
    "ctv_map.to_file('ShapeFiles/GeoJSON/ctv.geojson', driver='GeoJSON')"
   ]
  },
  {
   "cell_type": "code",
   "execution_count": null,
   "id": "9170b839",
   "metadata": {},
   "outputs": [],
   "source": []
  },
  {
   "cell_type": "code",
   "execution_count": 3,
   "id": "95359dc6",
   "metadata": {},
   "outputs": [],
   "source": [
    "#Load crosswalks and base tables\n",
    "CTV = pd.read_csv('Output/CTV_622update.csv',usecols =['GEOID','GEO_UNIT','FULL_NAME','TYPE','CODE_state','member_flag','POPULATION','POP_YEAR'],dtype={'GEOID':'str'})\n",
    "CTV_x_COUNTY = pd.read_csv('Output/CTV_x_COUNTY.csv',dtype='str')\n",
    "CTV_x_BLOCK = pd.read_csv('Output/CTV_x_BLOCK.csv',dtype='str')\n",
    "CTV_x_CD = pd.read_csv('Output/CTV_x_CD.csv',dtype='str')"
   ]
  },
  {
   "cell_type": "code",
   "execution_count": 4,
   "id": "43b01971",
   "metadata": {
    "scrolled": true
   },
   "outputs": [
    {
     "name": "stderr",
     "output_type": "stream",
     "text": [
      "STATE: 100%|█████████████████████████████████████████████████████████████████████████████| 1/1 [00:08<00:00,  8.66s/it]\n"
     ]
    }
   ],
   "source": [
    "#STATE\n",
    "states = get_geo_table('STATE','https://www2.census.gov/geo/tiger/TIGER2020/STATE/')\n",
    "states_data = pd.read_csv('Output/STATE.csv', dtype = 'str')\n",
    "states_data = states_data[states_data.CODE.isin(CTV.CODE_state.unique().tolist())]\n",
    "states = states.merge(states_data, left_on='GEOID',right_on='FIPS',suffixes=('','_y'))\n",
    "states = states.iloc[:,[15,16,6,0,1,10,11,12,13,14]]\n",
    "states.REGION = states.REGION.map({'1':'Northeast',\n",
    "                                   '2':'Midwest',\n",
    "                                   '3':'South',\n",
    "                                   '4':'West',\n",
    "                                   '9':'N/A'})\n",
    "states.DIVISION = states.DIVISION.map({'1':'New England',\n",
    "                                       '2':'Middle Atlantic',\n",
    "                                       '3':'East North Central',\n",
    "                                       '4':'West North Central',\n",
    "                                       '5':'South Atlantic',\n",
    "                                       '6':'East South Central',\n",
    "                                       '7':'West South Central',\n",
    "                                       '8':'Mountain',\n",
    "                                       '9':'Pacific',\n",
    "                                       '0':'N/A'})\n",
    "states.to_file('ShapeFiles/STATE/state.shp')\n",
    "states.to_file('ShapeFiles/GeoJSON/state.geojson', driver='GeoJSON')"
   ]
  },
  {
   "cell_type": "code",
   "execution_count": 5,
   "id": "b023047e",
   "metadata": {},
   "outputs": [
    {
     "name": "stderr",
     "output_type": "stream",
     "text": [
      "CSA: 100%|███████████████████████████████████████████████████████████████████████████████| 1/1 [00:19<00:00, 19.75s/it]\n"
     ]
    }
   ],
   "source": [
    "#CSA\n",
    "csa = get_geo_table('CSA','https://www2.census.gov/geo/tiger/TIGER2020/CSA/')\n",
    "csa_data = pd.read_csv('Output/CSA.csv', dtype = 'str').iloc[:,:2]\n",
    "csa_data = csa_data[csa_data.FIPS.isin(CTV_x_COUNTY.FIPS_csa.unique().tolist())]\n",
    "csa = csa.merge(csa_data, left_on='GEOID',right_on='FIPS',suffixes=('','_y'))\n",
    "csa = csa.iloc[:,[11,2,6,7,8,9,10]]\n",
    "csa.to_file('ShapeFiles/CSA/csa.shp')\n",
    "csa.to_file('ShapeFiles/GeoJSON/csa.geojson', driver='GeoJSON')"
   ]
  },
  {
   "cell_type": "code",
   "execution_count": 6,
   "id": "b93afd78",
   "metadata": {},
   "outputs": [
    {
     "name": "stderr",
     "output_type": "stream",
     "text": [
      "CBSA: 100%|██████████████████████████████████████████████████████████████████████████████| 1/1 [00:28<00:00, 28.90s/it]\n"
     ]
    }
   ],
   "source": [
    "#CBSA\n",
    "cbsa = get_geo_table('CBSA','https://www2.census.gov/geo/tiger/TIGER2020/CBSA/')\n",
    "cbsa_data = pd.read_csv('Output/CBSA.csv', dtype = 'str').iloc[:,:3]\n",
    "cbsa_data = cbsa_data[cbsa_data.FIPS.isin(CTV_x_COUNTY.FIPS_cbsa.unique().tolist())]\n",
    "cbsa = cbsa.merge(cbsa_data, left_on='GEOID',right_on='FIPS',suffixes=('','_y'))\n",
    "cbsa = cbsa.iloc[:,[13,3,15,8,9,10,11,12]]\n",
    "cbsa.to_file('ShapeFiles/CBSA/cbsa.shp')\n",
    "cbsa.to_file('ShapeFiles/GeoJSON/cbsa.geojson', driver='GeoJSON')"
   ]
  },
  {
   "cell_type": "code",
   "execution_count": 7,
   "id": "dd026787",
   "metadata": {},
   "outputs": [
    {
     "name": "stderr",
     "output_type": "stream",
     "text": [
      "METDIV: 100%|████████████████████████████████████████████████████████████████████████████| 1/1 [00:01<00:00,  1.77s/it]\n"
     ]
    }
   ],
   "source": [
    "#METDIV\n",
    "metdiv = get_geo_table('METDIV','https://www2.census.gov/geo/tiger/TIGER2020/METDIV/')\n",
    "metdiv_data = pd.read_csv('Output/METDIV.csv', dtype = 'str').iloc[:,:2]\n",
    "metdiv_data = metdiv_data[metdiv_data.FIPS.isin(CTV_x_COUNTY.FIPS_metdiv.unique().tolist())]\n",
    "metdiv = metdiv.merge(metdiv_data, left_on='METDIVFP',right_on='FIPS',suffixes=('','_y'))\n",
    "metdiv = metdiv.iloc[:,[13,4,8,9,10,11,12]]\n",
    "metdiv.to_file('ShapeFiles/METDIV/metdiv.shp')\n",
    "metdiv.to_file('ShapeFiles/GeoJSON/metdiv.geojson', driver='GeoJSON')"
   ]
  },
  {
   "cell_type": "code",
   "execution_count": 8,
   "id": "6b696fef",
   "metadata": {},
   "outputs": [
    {
     "name": "stderr",
     "output_type": "stream",
     "text": [
      "COUNTY: 100%|████████████████████████████████████████████████████████████████████████████| 1/1 [00:58<00:00, 58.28s/it]\n"
     ]
    }
   ],
   "source": [
    "#COUNTY\n",
    "county = get_geo_table('COUNTY','https://www2.census.gov/geo/tiger/TIGER2022/COUNTY/')\n",
    "county_data = pd.read_csv('Output/COUNTY.csv', dtype = 'str').iloc[:,[0,1,3]]\n",
    "county_data.rename(columns={\"CENTRAL_OUTLYING\": \"CENT_OUT\"},inplace=True)\n",
    "county_data = county_data[county_data.GEOID.isin(CTV_x_COUNTY.GEOID_county.unique().tolist())]\n",
    "county = county.merge(county_data, on='GEOID',suffixes=('','_y'))\n",
    "county = county.iloc[:,[3,4,19,13,14,15,16,17]]\n",
    "county.to_file('ShapeFiles/COUNTY/county.shp')\n",
    "county.to_file('ShapeFiles/GeoJSON/county.geojson', driver='GeoJSON')"
   ]
  },
  {
   "cell_type": "code",
   "execution_count": 20,
   "id": "9c47d848",
   "metadata": {},
   "outputs": [
    {
     "name": "stderr",
     "output_type": "stream",
     "text": [
      "COUSUB:   7%|█████▎                                                                     | 4/56 [00:18<03:54,  4.51s/it]\n"
     ]
    },
    {
     "ename": "KeyboardInterrupt",
     "evalue": "",
     "output_type": "error",
     "traceback": [
      "\u001b[1;31m---------------------------------------------------------------------------\u001b[0m",
      "\u001b[1;31mKeyboardInterrupt\u001b[0m                         Traceback (most recent call last)",
      "\u001b[1;32m~\\AppData\\Local\\Temp/ipykernel_7056/2228874729.py\u001b[0m in \u001b[0;36m<module>\u001b[1;34m\u001b[0m\n\u001b[0;32m      1\u001b[0m \u001b[1;31m#COUSUB\u001b[0m\u001b[1;33m\u001b[0m\u001b[1;33m\u001b[0m\u001b[0m\n\u001b[1;32m----> 2\u001b[1;33m \u001b[0mcousub\u001b[0m \u001b[1;33m=\u001b[0m \u001b[0mget_geo_table\u001b[0m\u001b[1;33m(\u001b[0m\u001b[1;34m'COUSUB'\u001b[0m\u001b[1;33m,\u001b[0m\u001b[1;34m'https://www2.census.gov/geo/tiger/TIGER2022/COUSUB/'\u001b[0m\u001b[1;33m)\u001b[0m\u001b[1;33m\u001b[0m\u001b[1;33m\u001b[0m\u001b[0m\n\u001b[0m\u001b[0;32m      3\u001b[0m \u001b[0mcousub_data\u001b[0m \u001b[1;33m=\u001b[0m \u001b[0mpd\u001b[0m\u001b[1;33m.\u001b[0m\u001b[0mread_csv\u001b[0m\u001b[1;33m(\u001b[0m\u001b[1;34m'Output/COUSUB.csv'\u001b[0m\u001b[1;33m,\u001b[0m \u001b[0mdtype\u001b[0m \u001b[1;33m=\u001b[0m \u001b[1;34m'str'\u001b[0m\u001b[1;33m)\u001b[0m\u001b[1;33m.\u001b[0m\u001b[0miloc\u001b[0m\u001b[1;33m[\u001b[0m\u001b[1;33m:\u001b[0m\u001b[1;33m,\u001b[0m\u001b[1;33m:\u001b[0m\u001b[1;36m3\u001b[0m\u001b[1;33m]\u001b[0m\u001b[1;33m\u001b[0m\u001b[1;33m\u001b[0m\u001b[0m\n\u001b[0;32m      4\u001b[0m \u001b[0mcousub_data\u001b[0m \u001b[1;33m=\u001b[0m \u001b[0mcousub_data\u001b[0m\u001b[1;33m[\u001b[0m\u001b[0mcousub_data\u001b[0m\u001b[1;33m.\u001b[0m\u001b[0mGEOID\u001b[0m\u001b[1;33m.\u001b[0m\u001b[0misin\u001b[0m\u001b[1;33m(\u001b[0m\u001b[0mCTV_x_BLOCK\u001b[0m\u001b[1;33m.\u001b[0m\u001b[0mGEOID_cousub\u001b[0m\u001b[1;33m.\u001b[0m\u001b[0munique\u001b[0m\u001b[1;33m(\u001b[0m\u001b[1;33m)\u001b[0m\u001b[1;33m.\u001b[0m\u001b[0mtolist\u001b[0m\u001b[1;33m(\u001b[0m\u001b[1;33m)\u001b[0m\u001b[1;33m)\u001b[0m\u001b[1;33m]\u001b[0m\u001b[1;33m\u001b[0m\u001b[1;33m\u001b[0m\u001b[0m\n\u001b[0;32m      5\u001b[0m \u001b[0mcousub\u001b[0m \u001b[1;33m=\u001b[0m \u001b[0mcousub\u001b[0m\u001b[1;33m.\u001b[0m\u001b[0mmerge\u001b[0m\u001b[1;33m(\u001b[0m\u001b[0mcousub_data\u001b[0m\u001b[1;33m,\u001b[0m \u001b[0mon\u001b[0m\u001b[1;33m=\u001b[0m\u001b[1;34m'GEOID'\u001b[0m\u001b[1;33m,\u001b[0m\u001b[0msuffixes\u001b[0m\u001b[1;33m=\u001b[0m\u001b[1;33m(\u001b[0m\u001b[1;34m''\u001b[0m\u001b[1;33m,\u001b[0m\u001b[1;34m'_y'\u001b[0m\u001b[1;33m)\u001b[0m\u001b[1;33m)\u001b[0m\u001b[1;33m\u001b[0m\u001b[1;33m\u001b[0m\u001b[0m\n",
      "\u001b[1;32m~\\AppData\\Local\\Temp/ipykernel_7056/1555597254.py\u001b[0m in \u001b[0;36mget_geo_table\u001b[1;34m(geography, url)\u001b[0m\n\u001b[0;32m     14\u001b[0m     \u001b[0mpages\u001b[0m \u001b[1;33m=\u001b[0m \u001b[1;33m[\u001b[0m\u001b[1;33m]\u001b[0m\u001b[1;33m\u001b[0m\u001b[1;33m\u001b[0m\u001b[0m\n\u001b[0;32m     15\u001b[0m     \u001b[1;32mfor\u001b[0m \u001b[0mzfile\u001b[0m \u001b[1;32min\u001b[0m \u001b[0mtqdm\u001b[0m\u001b[1;33m(\u001b[0m\u001b[0mfiles\u001b[0m\u001b[1;33m,\u001b[0m \u001b[0mdesc\u001b[0m\u001b[1;33m=\u001b[0m\u001b[1;34mf\"{geography}\"\u001b[0m\u001b[1;33m,\u001b[0m\u001b[0mtotal\u001b[0m\u001b[1;33m=\u001b[0m\u001b[0mlen\u001b[0m\u001b[1;33m(\u001b[0m\u001b[0mfiles\u001b[0m\u001b[1;33m)\u001b[0m\u001b[1;33m)\u001b[0m\u001b[1;33m:\u001b[0m\u001b[1;33m\u001b[0m\u001b[1;33m\u001b[0m\u001b[0m\n\u001b[1;32m---> 16\u001b[1;33m         \u001b[0mtable\u001b[0m \u001b[1;33m=\u001b[0m \u001b[0mgpd\u001b[0m\u001b[1;33m.\u001b[0m\u001b[0mread_file\u001b[0m\u001b[1;33m(\u001b[0m\u001b[0mzfile\u001b[0m\u001b[1;33m)\u001b[0m\u001b[1;33m\u001b[0m\u001b[1;33m\u001b[0m\u001b[0m\n\u001b[0m\u001b[0;32m     17\u001b[0m         \u001b[0mpages\u001b[0m\u001b[1;33m.\u001b[0m\u001b[0mappend\u001b[0m\u001b[1;33m(\u001b[0m\u001b[0mtable\u001b[0m\u001b[1;33m)\u001b[0m\u001b[1;33m\u001b[0m\u001b[1;33m\u001b[0m\u001b[0m\n\u001b[0;32m     18\u001b[0m     \u001b[0mfulltable\u001b[0m \u001b[1;33m=\u001b[0m  \u001b[0mgpd\u001b[0m\u001b[1;33m.\u001b[0m\u001b[0mGeoDataFrame\u001b[0m\u001b[1;33m(\u001b[0m\u001b[0mpd\u001b[0m\u001b[1;33m.\u001b[0m\u001b[0mconcat\u001b[0m\u001b[1;33m(\u001b[0m\u001b[0mpages\u001b[0m\u001b[1;33m,\u001b[0m \u001b[0mignore_index\u001b[0m\u001b[1;33m=\u001b[0m\u001b[1;32mTrue\u001b[0m\u001b[1;33m)\u001b[0m\u001b[1;33m)\u001b[0m\u001b[1;33m\u001b[0m\u001b[1;33m\u001b[0m\u001b[0m\n",
      "\u001b[1;32m~\\Anaconda3\\lib\\site-packages\\geopandas\\io\\file.py\u001b[0m in \u001b[0;36m_read_file\u001b[1;34m(filename, bbox, mask, rows, engine, **kwargs)\u001b[0m\n\u001b[0;32m    257\u001b[0m \u001b[1;33m\u001b[0m\u001b[0m\n\u001b[0;32m    258\u001b[0m     \u001b[1;32mif\u001b[0m \u001b[0mengine\u001b[0m \u001b[1;33m==\u001b[0m \u001b[1;34m\"fiona\"\u001b[0m\u001b[1;33m:\u001b[0m\u001b[1;33m\u001b[0m\u001b[1;33m\u001b[0m\u001b[0m\n\u001b[1;32m--> 259\u001b[1;33m         return _read_file_fiona(\n\u001b[0m\u001b[0;32m    260\u001b[0m             \u001b[0mpath_or_bytes\u001b[0m\u001b[1;33m,\u001b[0m \u001b[0mfrom_bytes\u001b[0m\u001b[1;33m,\u001b[0m \u001b[0mbbox\u001b[0m\u001b[1;33m=\u001b[0m\u001b[0mbbox\u001b[0m\u001b[1;33m,\u001b[0m \u001b[0mmask\u001b[0m\u001b[1;33m=\u001b[0m\u001b[0mmask\u001b[0m\u001b[1;33m,\u001b[0m \u001b[0mrows\u001b[0m\u001b[1;33m=\u001b[0m\u001b[0mrows\u001b[0m\u001b[1;33m,\u001b[0m \u001b[1;33m**\u001b[0m\u001b[0mkwargs\u001b[0m\u001b[1;33m\u001b[0m\u001b[1;33m\u001b[0m\u001b[0m\n\u001b[0;32m    261\u001b[0m         )\n",
      "\u001b[1;32m~\\Anaconda3\\lib\\site-packages\\geopandas\\io\\file.py\u001b[0m in \u001b[0;36m_read_file_fiona\u001b[1;34m(path_or_bytes, from_bytes, bbox, mask, rows, where, **kwargs)\u001b[0m\n\u001b[0;32m    358\u001b[0m                 )\n\u001b[0;32m    359\u001b[0m             \u001b[1;32melse\u001b[0m\u001b[1;33m:\u001b[0m\u001b[1;33m\u001b[0m\u001b[1;33m\u001b[0m\u001b[0m\n\u001b[1;32m--> 360\u001b[1;33m                 df = GeoDataFrame.from_features(\n\u001b[0m\u001b[0;32m    361\u001b[0m                     \u001b[0mf_filt\u001b[0m\u001b[1;33m,\u001b[0m \u001b[0mcrs\u001b[0m\u001b[1;33m=\u001b[0m\u001b[0mcrs\u001b[0m\u001b[1;33m,\u001b[0m \u001b[0mcolumns\u001b[0m\u001b[1;33m=\u001b[0m\u001b[0mcolumns\u001b[0m \u001b[1;33m+\u001b[0m \u001b[1;33m[\u001b[0m\u001b[1;34m\"geometry\"\u001b[0m\u001b[1;33m]\u001b[0m\u001b[1;33m\u001b[0m\u001b[1;33m\u001b[0m\u001b[0m\n\u001b[0;32m    362\u001b[0m                 )\n",
      "\u001b[1;32m~\\Anaconda3\\lib\\site-packages\\geopandas\\geodataframe.py\u001b[0m in \u001b[0;36mfrom_features\u001b[1;34m(cls, features, crs, columns)\u001b[0m\n\u001b[0;32m    633\u001b[0m                 \u001b[0mfeature\u001b[0m \u001b[1;33m=\u001b[0m \u001b[0mfeature\u001b[0m\u001b[1;33m.\u001b[0m\u001b[0m__geo_interface__\u001b[0m\u001b[1;33m\u001b[0m\u001b[1;33m\u001b[0m\u001b[0m\n\u001b[0;32m    634\u001b[0m             row = {\n\u001b[1;32m--> 635\u001b[1;33m                 \u001b[1;34m\"geometry\"\u001b[0m\u001b[1;33m:\u001b[0m \u001b[0mshape\u001b[0m\u001b[1;33m(\u001b[0m\u001b[0mfeature\u001b[0m\u001b[1;33m[\u001b[0m\u001b[1;34m\"geometry\"\u001b[0m\u001b[1;33m]\u001b[0m\u001b[1;33m)\u001b[0m \u001b[1;32mif\u001b[0m \u001b[0mfeature\u001b[0m\u001b[1;33m[\u001b[0m\u001b[1;34m\"geometry\"\u001b[0m\u001b[1;33m]\u001b[0m \u001b[1;32melse\u001b[0m \u001b[1;32mNone\u001b[0m\u001b[1;33m\u001b[0m\u001b[1;33m\u001b[0m\u001b[0m\n\u001b[0m\u001b[0;32m    636\u001b[0m             }\n\u001b[0;32m    637\u001b[0m             \u001b[1;31m# load properties\u001b[0m\u001b[1;33m\u001b[0m\u001b[1;33m\u001b[0m\u001b[0m\n",
      "\u001b[1;32m~\\Anaconda3\\lib\\site-packages\\shapely\\geometry\\geo.py\u001b[0m in \u001b[0;36mshape\u001b[1;34m(context)\u001b[0m\n\u001b[0;32m    100\u001b[0m         \u001b[1;32mreturn\u001b[0m \u001b[0mLinearRing\u001b[0m\u001b[1;33m(\u001b[0m\u001b[0mob\u001b[0m\u001b[1;33m[\u001b[0m\u001b[1;34m\"coordinates\"\u001b[0m\u001b[1;33m]\u001b[0m\u001b[1;33m)\u001b[0m\u001b[1;33m\u001b[0m\u001b[1;33m\u001b[0m\u001b[0m\n\u001b[0;32m    101\u001b[0m     \u001b[1;32melif\u001b[0m \u001b[0mgeom_type\u001b[0m \u001b[1;33m==\u001b[0m \u001b[1;34m\"polygon\"\u001b[0m\u001b[1;33m:\u001b[0m\u001b[1;33m\u001b[0m\u001b[1;33m\u001b[0m\u001b[0m\n\u001b[1;32m--> 102\u001b[1;33m         \u001b[1;32mreturn\u001b[0m \u001b[0mPolygon\u001b[0m\u001b[1;33m(\u001b[0m\u001b[0mob\u001b[0m\u001b[1;33m[\u001b[0m\u001b[1;34m\"coordinates\"\u001b[0m\u001b[1;33m]\u001b[0m\u001b[1;33m[\u001b[0m\u001b[1;36m0\u001b[0m\u001b[1;33m]\u001b[0m\u001b[1;33m,\u001b[0m \u001b[0mob\u001b[0m\u001b[1;33m[\u001b[0m\u001b[1;34m\"coordinates\"\u001b[0m\u001b[1;33m]\u001b[0m\u001b[1;33m[\u001b[0m\u001b[1;36m1\u001b[0m\u001b[1;33m:\u001b[0m\u001b[1;33m]\u001b[0m\u001b[1;33m)\u001b[0m\u001b[1;33m\u001b[0m\u001b[1;33m\u001b[0m\u001b[0m\n\u001b[0m\u001b[0;32m    103\u001b[0m     \u001b[1;32melif\u001b[0m \u001b[0mgeom_type\u001b[0m \u001b[1;33m==\u001b[0m \u001b[1;34m\"multipoint\"\u001b[0m\u001b[1;33m:\u001b[0m\u001b[1;33m\u001b[0m\u001b[1;33m\u001b[0m\u001b[0m\n\u001b[0;32m    104\u001b[0m         \u001b[1;32mreturn\u001b[0m \u001b[0mMultiPoint\u001b[0m\u001b[1;33m(\u001b[0m\u001b[0mob\u001b[0m\u001b[1;33m[\u001b[0m\u001b[1;34m\"coordinates\"\u001b[0m\u001b[1;33m]\u001b[0m\u001b[1;33m)\u001b[0m\u001b[1;33m\u001b[0m\u001b[1;33m\u001b[0m\u001b[0m\n",
      "\u001b[1;32m~\\Anaconda3\\lib\\site-packages\\shapely\\geometry\\polygon.py\u001b[0m in \u001b[0;36m__new__\u001b[1;34m(self, shell, holes)\u001b[0m\n\u001b[0;32m    228\u001b[0m             \u001b[1;32mreturn\u001b[0m \u001b[0mshell\u001b[0m\u001b[1;33m\u001b[0m\u001b[1;33m\u001b[0m\u001b[0m\n\u001b[0;32m    229\u001b[0m         \u001b[1;32melse\u001b[0m\u001b[1;33m:\u001b[0m\u001b[1;33m\u001b[0m\u001b[1;33m\u001b[0m\u001b[0m\n\u001b[1;32m--> 230\u001b[1;33m             \u001b[0mshell\u001b[0m \u001b[1;33m=\u001b[0m \u001b[0mLinearRing\u001b[0m\u001b[1;33m(\u001b[0m\u001b[0mshell\u001b[0m\u001b[1;33m)\u001b[0m\u001b[1;33m\u001b[0m\u001b[1;33m\u001b[0m\u001b[0m\n\u001b[0m\u001b[0;32m    231\u001b[0m \u001b[1;33m\u001b[0m\u001b[0m\n\u001b[0;32m    232\u001b[0m         \u001b[1;32mif\u001b[0m \u001b[0mholes\u001b[0m \u001b[1;32mis\u001b[0m \u001b[1;32mnot\u001b[0m \u001b[1;32mNone\u001b[0m\u001b[1;33m:\u001b[0m\u001b[1;33m\u001b[0m\u001b[1;33m\u001b[0m\u001b[0m\n",
      "\u001b[1;32m~\\Anaconda3\\lib\\site-packages\\shapely\\geometry\\polygon.py\u001b[0m in \u001b[0;36m__new__\u001b[1;34m(self, coordinates)\u001b[0m\n\u001b[0;32m     92\u001b[0m \u001b[1;33m\u001b[0m\u001b[0m\n\u001b[0;32m     93\u001b[0m                 \u001b[0mcoordinates\u001b[0m \u001b[1;33m=\u001b[0m \u001b[0mnp\u001b[0m\u001b[1;33m.\u001b[0m\u001b[0marray\u001b[0m\u001b[1;33m(\u001b[0m\u001b[1;33m[\u001b[0m\u001b[0m_coords\u001b[0m\u001b[1;33m(\u001b[0m\u001b[0mo\u001b[0m\u001b[1;33m)\u001b[0m \u001b[1;32mfor\u001b[0m \u001b[0mo\u001b[0m \u001b[1;32min\u001b[0m \u001b[0mcoordinates\u001b[0m\u001b[1;33m]\u001b[0m\u001b[1;33m)\u001b[0m\u001b[1;33m\u001b[0m\u001b[1;33m\u001b[0m\u001b[0m\n\u001b[1;32m---> 94\u001b[1;33m                 \u001b[1;32mif\u001b[0m \u001b[1;32mnot\u001b[0m \u001b[0mnp\u001b[0m\u001b[1;33m.\u001b[0m\u001b[0missubdtype\u001b[0m\u001b[1;33m(\u001b[0m\u001b[0mcoordinates\u001b[0m\u001b[1;33m.\u001b[0m\u001b[0mdtype\u001b[0m\u001b[1;33m,\u001b[0m \u001b[0mnp\u001b[0m\u001b[1;33m.\u001b[0m\u001b[0mnumber\u001b[0m\u001b[1;33m)\u001b[0m\u001b[1;33m:\u001b[0m\u001b[1;33m\u001b[0m\u001b[1;33m\u001b[0m\u001b[0m\n\u001b[0m\u001b[0;32m     95\u001b[0m                     \u001b[1;31m# conversion of coords to 2D array failed, this might be due\u001b[0m\u001b[1;33m\u001b[0m\u001b[1;33m\u001b[0m\u001b[0m\n\u001b[0;32m     96\u001b[0m                     \u001b[1;31m# to inconsistent coordinate dimensionality\u001b[0m\u001b[1;33m\u001b[0m\u001b[1;33m\u001b[0m\u001b[0m\n",
      "\u001b[1;31mKeyboardInterrupt\u001b[0m: "
     ]
    }
   ],
   "source": [
    "#COUSUB\n",
    "cousub = get_geo_table('COUSUB','https://www2.census.gov/geo/tiger/TIGER2022/COUSUB/')\n",
    "cousub_data = pd.read_csv('Output/COUSUB.csv', dtype = 'str').iloc[:,:3]\n",
    "cousub_data = cousub_data[cousub_data.GEOID.isin(CTV_x_BLOCK.GEOID_cousub.unique().tolist())]\n",
    "cousub = cousub.merge(cousub_data, on='GEOID',suffixes=('','_y'))\n",
    "cousub = cousub.iloc[:,[4,5,20,14,15,16,17,18]]\n",
    "cousub.to_file('ShapeFiles/COUSUB/cousub.shp')\n",
    "cousub.to_file('ShapeFiles/GeoJSON/cousub.geojson', driver='GeoJSON')"
   ]
  },
  {
   "cell_type": "code",
   "execution_count": 10,
   "id": "cf3d3d95",
   "metadata": {},
   "outputs": [
    {
     "name": "stderr",
     "output_type": "stream",
     "text": [
      "TRACT: 100%|███████████████████████████████████████████████████████████████████████████| 56/56 [06:57<00:00,  7.45s/it]\n"
     ]
    }
   ],
   "source": [
    "#TRACT\n",
    "tract = get_geo_table('TRACT','https://www2.census.gov/geo/tiger/TIGER2020/TRACT/')\n",
    "tract_data = pd.read_csv('Output/TRACT.csv', dtype = 'str').iloc[:,:2]\n",
    "tract_data = tract_data[tract_data.GEOID.isin(CTV_x_BLOCK.GEOID_tract.unique().tolist())]\n",
    "tract = tract.merge(tract_data, on='GEOID',suffixes=('','_y'))\n",
    "tract = tract.iloc[:,[3,5,8,9,10,11,12]]\n",
    "tract.to_file('ShapeFiles/TRACT/tract.shp')\n",
    "tract.to_file('ShapeFiles/GeoJSON/tract.geojson', driver='GeoJSON')"
   ]
  },
  {
   "cell_type": "code",
   "execution_count": 11,
   "id": "885b698a",
   "metadata": {},
   "outputs": [
    {
     "name": "stderr",
     "output_type": "stream",
     "text": [
      "BLOCKGROUP: 100%|██████████████████████████████████████████████████████████████████████| 56/56 [13:03<00:00, 14.00s/it]\n"
     ]
    }
   ],
   "source": [
    "#BLOCKGROUP\n",
    "blockgroup = get_geo_table('BLOCKGROUP','https://www2.census.gov/geo/tiger/TIGER2020/BG/')\n",
    "blockgroup_data = pd.read_csv('Output/BLOCKGROUP.csv', dtype = 'str').iloc[:,:2]\n",
    "blockgroup_data = blockgroup_data[blockgroup_data.GEOID.isin(CTV_x_BLOCK.GEOID_blockgroup.unique().tolist())]\n",
    "blockgroup = blockgroup.merge(blockgroup_data, on='GEOID',suffixes=('','_y'))\n",
    "blockgroup = blockgroup.iloc[:,[4,13,8,9,10,11,12]]\n",
    "blockgroup.to_file('ShapeFiles/BLOCKGROUP/blockgroup.shp')\n",
    "blockgroup.to_file('ShapeFiles/GeoJSON/blockgroup.geojson', driver='GeoJSON')"
   ]
  },
  {
   "cell_type": "code",
   "execution_count": 12,
   "id": "6902ac95",
   "metadata": {},
   "outputs": [
    {
     "name": "stderr",
     "output_type": "stream",
     "text": [
      "PLACE: 100%|███████████████████████████████████████████████████████████████████████████| 56/56 [02:29<00:00,  2.66s/it]\n"
     ]
    }
   ],
   "source": [
    "#PLACE\n",
    "place = get_geo_table('https://www2.census.gov/geo/tiger/TIGER2022/PLACE/')\n",
    "place_data = pd.read_csv('Output/PLACE.csv', dtype = 'str').iloc[:,:2]\n",
    "place_data = place_data[place_data.GEOID.isin(CTV.GEOID.unique().tolist())]\n",
    "place = place.merge(place_data, on='GEOID',suffixes=('','_y'))\n",
    "place = place.iloc[:,[3,4,12,13,14,15,16]]"
   ]
  },
  {
   "cell_type": "code",
   "execution_count": 13,
   "id": "e8a1a031",
   "metadata": {},
   "outputs": [],
   "source": [
    "#CTV Map\n",
    "ctv_map = pd.concat([place,county,cousub], ignore_index = True).iloc[:,:-2].merge(CTV, on = 'GEOID')\n",
    "ctv_map = ctv_map.iloc[:,[0,7,8,9,10,11,12,13,2,3,4,5,6]]\n",
    "ctv_map.rename(columns={\"member_flag\": \"mem_flag\"},inplace=True)\n",
    "ctv_map.to_file('ShapeFiles/CTV/ctv.shp')\n",
    "ctv_map.to_file('ShapeFiles/GeoJSON/ctv.geojson', driver='GeoJSON')"
   ]
  },
  {
   "cell_type": "code",
   "execution_count": 14,
   "id": "6bb56630",
   "metadata": {},
   "outputs": [
    {
     "name": "stderr",
     "output_type": "stream",
     "text": [
      "CD: 100%|██████████████████████████████████████████████████████████████████████████████| 56/56 [01:02<00:00,  1.11s/it]\n"
     ]
    }
   ],
   "source": [
    "#CD\n",
    "cd = get_geo_table('CD','https://www2.census.gov/geo/tiger/TIGER2020/CD/CD118/')\n",
    "cd_data = pd.read_csv('Output/CD.csv', dtype = 'str').iloc[:,:2]\n",
    "cd_data = cd_data[cd_data.GEOID.isin(CTV_x_CD.GEOID_cd.unique().tolist())]\n",
    "cd = cd.merge(cd_data, left_on='GEOID20',right_on='GEOID',suffixes=('','_y'))\n",
    "cd = cd.iloc[:,[13,14,8,9,10,11,12]]\n",
    "cd.to_file('ShapeFiles/CD/cd.shp')\n",
    "cd.to_file('ShapeFiles/GeoJSON/cd.geojson', driver='GeoJSON')"
   ]
  },
  {
   "cell_type": "code",
   "execution_count": 5,
   "id": "832848d7",
   "metadata": {
    "scrolled": true
   },
   "outputs": [],
   "source": [
    "#BLOCK\n",
    "block = get_geo_table('BLOCK','https://www2.census.gov/geo/tiger/TIGER2020/TABBLOCK20/')\n",
    "block_data = pd.read_csv('Output/BLOCK.csv', dtype = 'str').iloc[:,[0,1,2,7,8]]\n",
    "block_data = block_data[block_data.GEOID.isin(CTV_x_BLOCK.GEOID_block.unique().tolist())]\n",
    "block = block.merge(block_data, left_on='GEOID20',right_on='GEOID',suffixes=('','_y'))\n",
    "block = block.iloc[:,[18,19,20,21,22,11,12,13,14,17]]\n",
    "block.to_file('ShapeFiles/BLOCK/block.shp')\n",
    "block.to_file('ShapeFiles/GeoJSON/block.geojson', driver='GeoJSON')"
   ]
  }
 ],
 "metadata": {
  "kernelspec": {
   "display_name": "Python 3 (ipykernel)",
   "language": "python",
   "name": "python3"
  },
  "language_info": {
   "codemirror_mode": {
    "name": "ipython",
    "version": 3
   },
   "file_extension": ".py",
   "mimetype": "text/x-python",
   "name": "python",
   "nbconvert_exporter": "python",
   "pygments_lexer": "ipython3",
   "version": "3.9.7"
  }
 },
 "nbformat": 4,
 "nbformat_minor": 5
}
